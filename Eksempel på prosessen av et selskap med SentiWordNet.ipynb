{
 "cells": [
  {
   "cell_type": "code",
   "execution_count": null,
   "id": "8cbdd37b",
   "metadata": {},
   "outputs": [],
   "source": [
    "#Installerer de nødvendige pakkene\n",
    "\n",
    "import pandas as pd\n",
    "import numpy as np\n",
    "from sklearn.metrics import accuracy_score, classification_report\n",
    "from sklearn.discriminant_analysis import LinearDiscriminantAnalysis\n",
    "from nltk.tokenize import sent_tokenize, word_tokenize"
   ]
  },
  {
   "cell_type": "code",
   "execution_count": null,
   "id": "dce0922d",
   "metadata": {},
   "outputs": [],
   "source": [
    "#Laster inn filen som omhandler det gitte selskapet\n",
    "\n",
    "AppleR = pd.read_csv(r\"/Users/joakimlarsen/Documents/MasterOppgave/6 Big/Apple_Ferdig.csv\")"
   ]
  },
  {
   "cell_type": "code",
   "execution_count": null,
   "id": "c12725f2",
   "metadata": {},
   "outputs": [],
   "source": [
    "AppleR.shape"
   ]
  },
  {
   "cell_type": "code",
   "execution_count": null,
   "id": "1357d763",
   "metadata": {},
   "outputs": [],
   "source": [
    "#Ser hvordan datasettet ser ut\n",
    "\n",
    "AppleR.head(3)"
   ]
  },
  {
   "cell_type": "code",
   "execution_count": null,
   "id": "93dab2f8",
   "metadata": {},
   "outputs": [],
   "source": [
    "#Laster inn aksjeprisen for det gitte selskapet\n",
    "\n",
    "AppleAksje = pd.read_csv(r\"/Users/joakimlarsen/Documents/MasterOppgave/Apple/AppleStockPrices_Label.csv\")"
   ]
  },
  {
   "cell_type": "code",
   "execution_count": null,
   "id": "ae708ad0",
   "metadata": {},
   "outputs": [],
   "source": [
    "AppleAksje.shape"
   ]
  },
  {
   "cell_type": "code",
   "execution_count": null,
   "id": "b6166331",
   "metadata": {},
   "outputs": [],
   "source": [
    "#Ser hvordan datasettet ser ut\n",
    "\n",
    "AppleAksje.head(3)"
   ]
  },
  {
   "cell_type": "code",
   "execution_count": null,
   "id": "f36539f2",
   "metadata": {},
   "outputs": [],
   "source": [
    "#Merger datasettene sammen basert på dato\n",
    "\n",
    "merge = AppleR.merge(AppleAksje, how = \"inner\", on = \"Date\")"
   ]
  },
  {
   "cell_type": "code",
   "execution_count": null,
   "id": "2e088b15",
   "metadata": {},
   "outputs": [],
   "source": [
    "#Installerer pakker som er nødvendige\n",
    "\n",
    "import nltk\n",
    "import ssl\n",
    "from nltk.corpus import wordnet as wn\n",
    "from nltk.corpus import sentiwordnet as swn\n",
    "from nltk.stem import WordNetLemmatizer\n",
    "from nltk.corpus import stopwords\n",
    "nltk.download('averaged_perceptron_tagger')"
   ]
  },
  {
   "cell_type": "code",
   "execution_count": null,
   "id": "c6d03be3",
   "metadata": {},
   "outputs": [],
   "source": [
    "#Lager flere funksjoner som gir ut sentiment scoren til SentiWordNet på artikkel innholdet\n",
    "\n",
    "pos=neg=obj=count=0\n",
    "\n",
    "postagging = []\n",
    "\n",
    "for article in merge[\"article_content\"]:\n",
    "    list = word_tokenize(article)\n",
    "    postagging.append(nltk.pos_tag(list))\n",
    "\n",
    "merge[\"pos_tags\"] = postagging\n",
    "\n",
    "def penn_to_wn(tag):\n",
    "    if tag.startswith(\"J\"):\n",
    "        return wn.ADJ\n",
    "    elif tag.startswith(\"N\"):\n",
    "        return wn.NOUN\n",
    "    elif tag.startswith(\"R\"):\n",
    "        return wn.ADV\n",
    "    elif tag.startswith(\"V\"):\n",
    "        return wn.VERB\n",
    "    return None\n",
    "\n",
    "\n",
    "#Returnerer liste av positive / negative og objektive score,\n",
    "#men returnerer en tom liste dersom innholdet ikke er i SentiWordNet\n",
    "\n",
    "def get_sentiment(word, tag):\n",
    "    wn_tag = penn_to_wn(tag)\n",
    "    \n",
    "    if wn_tag not in (wn.NOUN, wn.ADJ, wn.ADV):\n",
    "        return []\n",
    "\n",
    "    #Synset er en spesiell type av et enkelt grensesnitt som er i NLTK for å kunne finne tak i ordene som er i WordNet. \n",
    "    #Når det forekommer Synset er det en gruppering av synonyme ord som uttrykker det samme konseptet. \n",
    "    #Noen av ordene har bare en Synset, mens noen har flere.\n",
    "    \n",
    "    synsets = wn.synsets(word, pos=wn_tag)\n",
    "    if not synsets:\n",
    "        return []\n",
    "\n",
    "    #Velger det første og mest vanlige uttrykket.\n",
    "    \n",
    "    synset = synsets[0]\n",
    "    swn_synset = swn.senti_synset(synset.name())\n",
    "\n",
    "    return [synset.name(), swn_synset.pos_score(),swn_synset.neg_score(),swn_synset.obj_score()]\n",
    "\n",
    "    pos=neg=obj=count=0\n",
    "    \n",
    "    ###################################################################################\n",
    "senti_score = []\n",
    "\n",
    "for pos_val in merge[\"pos_tags\"]:\n",
    "    senti_val = [get_sentiment(x,y) for (x,y) in pos_val]\n",
    "    for score in senti_val:\n",
    "        try:\n",
    "            pos = pos + score[1]  #Positiv score er plassert i andre posisjon.\n",
    "            neg = neg + score[2]  #Negativ score er plassert i tredje posisjon.\n",
    "        except:\n",
    "            continue\n",
    "    senti_score.append(pos - neg)\n",
    "    pos=neg=0    \n",
    "    \n",
    "merge[\"senti_score\"] = senti_score\n",
    "print(merge[\"senti_score\"])\n",
    "\n",
    "#Ser hvordan datasettet ser ut etter at sentiment scoren er lagt til\n",
    "\n",
    "print(merge.head)"
   ]
  },
  {
   "cell_type": "code",
   "execution_count": null,
   "id": "b42ab128",
   "metadata": {},
   "outputs": [],
   "source": [
    "#Lager en ny kolonne som innholder \"Positive\", \"Neutral\" og \"Negative\" i forhold til visse restriksjoner.\n",
    "\n",
    "overall=[]\n",
    "for i in range(len(merge)):\n",
    "    if merge[\"senti_score\"][i]>= 0.05:\n",
    "        overall.append(\"Positive\")\n",
    "    elif merge[\"senti_score\"][i]<= -0.05:\n",
    "        overall.append(\"Negative\")\n",
    "    else:\n",
    "        overall.append(\"Neutral\")\n",
    "merge[\"Overall Sentiment\"] = overall"
   ]
  },
  {
   "cell_type": "code",
   "execution_count": null,
   "id": "22500230",
   "metadata": {},
   "outputs": [],
   "source": [
    "#Ser hvordan datasettet ser ut etter siste tillegget\n",
    "\n",
    "merge.head(3)"
   ]
  },
  {
   "cell_type": "code",
   "execution_count": null,
   "id": "f499994b",
   "metadata": {},
   "outputs": [],
   "source": [
    "#Beholder de kolonnene som er nødvendige i en ny liste\n",
    "\n",
    "keep_columns = [\"Open\", \"Low\", \"High\", \"Date\", \"Close\", \"Volume\", \"senti_score\", \"Overall Sentiment\", \"Label\"]\n",
    "df = merge[keep_columns]\n",
    "df"
   ]
  },
  {
   "cell_type": "code",
   "execution_count": null,
   "id": "4ce3baa8",
   "metadata": {},
   "outputs": [],
   "source": [
    "#Gjør om datasettet til en csv fil før den går gjennom filtrering i R,\n",
    "#og går gjennom samme prosess som Vader og TextBlob med klassifiseringene."
   ]
  }
 ],
 "metadata": {
  "kernelspec": {
   "display_name": "Python 3 (ipykernel)",
   "language": "python",
   "name": "python3"
  },
  "language_info": {
   "codemirror_mode": {
    "name": "ipython",
    "version": 3
   },
   "file_extension": ".py",
   "mimetype": "text/x-python",
   "name": "python",
   "nbconvert_exporter": "python",
   "pygments_lexer": "ipython3",
   "version": "3.9.7"
  }
 },
 "nbformat": 4,
 "nbformat_minor": 5
}
