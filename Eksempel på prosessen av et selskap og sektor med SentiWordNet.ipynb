{
 "cells": [
  {
   "cell_type": "code",
   "execution_count": null,
   "id": "e5138fe9",
   "metadata": {},
   "outputs": [],
   "source": [
    "#Innstallerer pakker som er nødvendige\n",
    "\n",
    "import pandas as pd\n",
    "import numpy as np\n",
    "from sklearn.metrics import accuracy_score, classification_report\n",
    "from sklearn.discriminant_analysis import LinearDiscriminantAnalysis\n",
    "from nltk.tokenize import sent_tokenize, word_tokenize"
   ]
  },
  {
   "cell_type": "code",
   "execution_count": null,
   "id": "faf549b5",
   "metadata": {},
   "outputs": [],
   "source": [
    "#Laster inn filen av alle selskapene innenfor en sektor samlet\n",
    "#Her er testsettet til den gitte sektoren\n",
    "\n",
    "TeknologiTest = pd.read_csv(r\"/Users/joakimlarsen/Documents/MasterOppgave/6 Big/TestTeknologiSenti.csv\")"
   ]
  },
  {
   "cell_type": "code",
   "execution_count": null,
   "id": "21b9d4c2",
   "metadata": {},
   "outputs": [],
   "source": [
    "TeknologiTest.shape"
   ]
  },
  {
   "cell_type": "code",
   "execution_count": null,
   "id": "8d9cc1b4",
   "metadata": {},
   "outputs": [],
   "source": [
    "#Ser hvordan testsettet ser ut\n",
    "\n",
    "TeknologiTest.head(3)"
   ]
  },
  {
   "cell_type": "code",
   "execution_count": null,
   "id": "00cf768a",
   "metadata": {},
   "outputs": [],
   "source": [
    "#Laster inn treningssettet til den gitte sektoren\n",
    "\n",
    "TeknologiTrain = pd.read_csv(r\"/Users/joakimlarsen/Documents/MasterOppgave/6 Big/TrainTeknologiSenti.csv\")"
   ]
  },
  {
   "cell_type": "code",
   "execution_count": null,
   "id": "417aa333",
   "metadata": {},
   "outputs": [],
   "source": [
    "TeknologiTrain.shape"
   ]
  },
  {
   "cell_type": "code",
   "execution_count": null,
   "id": "a89ae378",
   "metadata": {},
   "outputs": [],
   "source": [
    "#Ser hvordan treningssettet ser ut\n",
    "\n",
    "TeknologiTrain.head(3)"
   ]
  },
  {
   "cell_type": "code",
   "execution_count": null,
   "id": "d195cbc6",
   "metadata": {},
   "outputs": [],
   "source": [
    "#Lager en liste og beholder de nødvendige parameterne\n",
    "\n",
    "keep_columns1 = [\"Open\", \"Low\", \"High\", \"Volume\",\"Close\", \"senti_score\", \"Overall.Sentiment\", \"Label\"]\n",
    "df1 = TeknologiTest[keep_columns1]\n",
    "df1"
   ]
  },
  {
   "cell_type": "code",
   "execution_count": null,
   "id": "afb33fda",
   "metadata": {},
   "outputs": [],
   "source": [
    "#Lager en liste for parameterne som har noe å si for sentiment scoren\n",
    "\n",
    "X = df1\n",
    "X = np.array(X.drop([\"Label\", \"Open\", \"Low\", \"High\", \"Close\", \"Volume\", \"Overall.Sentiment\"], 1))\n",
    "\n",
    "#Lager en liste som visr om det er oppgang eller nedgang\n",
    "\n",
    "y = np.array(df1[\"Label\"])"
   ]
  },
  {
   "cell_type": "code",
   "execution_count": null,
   "id": "4cb6aaa3",
   "metadata": {},
   "outputs": [],
   "source": [
    "#Ser hvordan listen ser ut\n",
    "\n",
    "X"
   ]
  },
  {
   "cell_type": "code",
   "execution_count": null,
   "id": "1c7ab9f1",
   "metadata": {},
   "outputs": [],
   "source": [
    "#Ser hvordan listen av faktisk oppgang eller nedgang ser ut \n",
    "\n",
    "y"
   ]
  },
  {
   "cell_type": "code",
   "execution_count": null,
   "id": "0f027442",
   "metadata": {},
   "outputs": [],
   "source": [
    "#Kaller X for testsettet vårt\n",
    "\n",
    "x_test = X"
   ]
  },
  {
   "cell_type": "code",
   "execution_count": null,
   "id": "eeef968b",
   "metadata": {},
   "outputs": [],
   "source": [
    "#Sjekker lengden på listen\n",
    "\n",
    "len(x_test)"
   ]
  },
  {
   "cell_type": "code",
   "execution_count": null,
   "id": "06170e60",
   "metadata": {},
   "outputs": [],
   "source": [
    "#Kaller y for y_test slik at det stemmer med test settet vårt\n",
    "\n",
    "y_test = y"
   ]
  },
  {
   "cell_type": "code",
   "execution_count": null,
   "id": "440d018f",
   "metadata": {},
   "outputs": [],
   "source": [
    "#Sjekker lengden på listen\n",
    "\n",
    "len(y_test)"
   ]
  },
  {
   "cell_type": "code",
   "execution_count": null,
   "id": "4e104319",
   "metadata": {},
   "outputs": [],
   "source": [
    "#Lager en liste hvor man bare behoder de parameterne som er viktige\n",
    "\n",
    "keep_columns2 = [\"Open\", \"Low\", \"High\", \"Volume\", \"Close\", \"senti_score\", \"Overall.Sentiment\", \"Label\"]\n",
    "df2 = TeknologiTrain[keep_columns2]\n",
    "df2"
   ]
  },
  {
   "cell_type": "code",
   "execution_count": null,
   "id": "e94e6f3f",
   "metadata": {},
   "outputs": [],
   "source": [
    "#Lager en liste for datasettet som bare inneholder parameterne som sier noe om sentiment scoren\n",
    "\n",
    "X1 = df2\n",
    "X1 = np.array(X1.drop([\"Label\", \"Open\", \"Low\", \"High\", \"Close\", \"Overall.Sentiment\", \"Volume\"], 1))\n",
    "\n",
    "#Lager en liste som viser faktisk oppgang eller nedgang\n",
    "\n",
    "y1 = np.array(df2[\"Label\"])"
   ]
  },
  {
   "cell_type": "code",
   "execution_count": null,
   "id": "c3f8858a",
   "metadata": {},
   "outputs": [],
   "source": [
    "#Setter X1 lik x_train slik det stemmer med treningssettet vårt\n",
    "\n",
    "x_train = X1"
   ]
  },
  {
   "cell_type": "code",
   "execution_count": null,
   "id": "708322e4",
   "metadata": {},
   "outputs": [],
   "source": [
    "#Sjekker lengden på listen til treningssettet\n",
    "\n",
    "len(x_train)"
   ]
  },
  {
   "cell_type": "code",
   "execution_count": null,
   "id": "f804897e",
   "metadata": {},
   "outputs": [],
   "source": [
    "#Kaller y1 for y_train slik at det stemmer med treningssettet vårt\n",
    "\n",
    "y_train = y1"
   ]
  },
  {
   "cell_type": "code",
   "execution_count": null,
   "id": "a2e7be05",
   "metadata": {},
   "outputs": [],
   "source": [
    "#Sjekker lengden på listen\n",
    "\n",
    "len(y_train)"
   ]
  },
  {
   "cell_type": "code",
   "execution_count": null,
   "id": "1a7257ec",
   "metadata": {},
   "outputs": [],
   "source": [
    "#Lager en liste hvor man bare beholder de kolonnene som er viktige\n",
    "\n",
    "keep_columns3 = [\"Label\", \"Open\", \"Low\", \"High\", \"Close\", \"Overall.Sentiment\", \"Volume\"]\n",
    "df3 = TeknologiValidering[keep_columns3]\n",
    "df3"
   ]
  },
  {
   "cell_type": "code",
   "execution_count": null,
   "id": "3ccceaf7",
   "metadata": {},
   "outputs": [],
   "source": [
    "#Lager en liste for datasettet som bare inneholder parameterne som sier noe om sentiment scoren\n",
    "\n",
    "X2 = df3\n",
    "X2 = np.array(X2.drop([\"Label\", \"Open\", \"Low\", \"High\", \"Close\", \"Overall.Sentiment\", \"Volume\"], 1))\n",
    "\n",
    "#Lager liste for om det faktisk er oppgang eller nedgang\n",
    "\n",
    "y2 = np.array(df3[\"Label\"])"
   ]
  },
  {
   "cell_type": "code",
   "execution_count": null,
   "id": "c92bc29d",
   "metadata": {},
   "outputs": [],
   "source": [
    "#Setter X2 lik x_validering\n",
    "\n",
    "x_validering = X1"
   ]
  },
  {
   "cell_type": "code",
   "execution_count": null,
   "id": "9f37170b",
   "metadata": {},
   "outputs": [],
   "source": [
    "#Sjekker lengden på listen til valideringssettet\n",
    "\n",
    "len(x_validering)"
   ]
  },
  {
   "cell_type": "code",
   "execution_count": null,
   "id": "91d67a7f",
   "metadata": {},
   "outputs": [],
   "source": [
    "#Kaller y2 for y_validering\n",
    "\n",
    "y_validering = y2"
   ]
  },
  {
   "cell_type": "code",
   "execution_count": null,
   "id": "de6ff3b2",
   "metadata": {},
   "outputs": [],
   "source": [
    "#Sjekker lengden på listen\n",
    "\n",
    "len(y_validering)"
   ]
  },
  {
   "cell_type": "code",
   "execution_count": null,
   "id": "cce4abe9",
   "metadata": {},
   "outputs": [],
   "source": [
    "#Lager en liste som inneholder begge listene vi lagde\n",
    "\n",
    "frame = [df1, df2]"
   ]
  },
  {
   "cell_type": "code",
   "execution_count": null,
   "id": "4d525bbc",
   "metadata": {},
   "outputs": [],
   "source": [
    "#Ser hvordan settet ser ut\n",
    "\n",
    "result = pd.concat(frame)\n",
    "result.shape"
   ]
  },
  {
   "cell_type": "code",
   "execution_count": null,
   "id": "594d24b0",
   "metadata": {},
   "outputs": [],
   "source": [
    "#Importerer pakker som trengs for å kjøre deskriptiv statistikk\n",
    "\n",
    "import statistics\n",
    "from scipy.stats import skew\n",
    "from scipy.stats import norm, kurtosis"
   ]
  },
  {
   "cell_type": "code",
   "execution_count": null,
   "id": "59040395",
   "metadata": {},
   "outputs": [],
   "source": [
    "#Får frem mesteparten av den deskriptive statistikken som trengs\n",
    "\n",
    "result.describe(include = \"all\")"
   ]
  },
  {
   "cell_type": "code",
   "execution_count": null,
   "id": "bcb2abc1",
   "metadata": {},
   "outputs": [],
   "source": [
    "#Finner medianen på de forskjellige parameterne\n",
    "\n",
    "statistics.median(result[\" \"])"
   ]
  },
  {
   "cell_type": "code",
   "execution_count": null,
   "id": "9dffd592",
   "metadata": {},
   "outputs": [],
   "source": [
    "#Finner skjevheten på de forskjellige parameterne\n",
    "\n",
    "skew(result[\" \"])"
   ]
  },
  {
   "cell_type": "code",
   "execution_count": null,
   "id": "ba89ac7f",
   "metadata": {},
   "outputs": [],
   "source": [
    "#Finner kurtosen på de forskjellige parameterne\n",
    "\n",
    "kurtosis(result[\" \"])"
   ]
  },
  {
   "cell_type": "code",
   "execution_count": null,
   "id": "0809a516",
   "metadata": {},
   "outputs": [],
   "source": [
    "#Lager modeller under de forskjellige klassifikatorene LDA, Bayes, KNN, SVM og Decision Tree som under\n",
    "#MasterfilTextBlobOgVader"
   ]
  },
  {
   "cell_type": "code",
   "execution_count": null,
   "id": "93b2fdf9",
   "metadata": {},
   "outputs": [],
   "source": [
    "#Gjør om datasettet til en csv fil før vi gjennomfører en trading strategi ved hjelp av excel"
   ]
  }
 ],
 "metadata": {
  "kernelspec": {
   "display_name": "Python 3 (ipykernel)",
   "language": "python",
   "name": "python3"
  },
  "language_info": {
   "codemirror_mode": {
    "name": "ipython",
    "version": 3
   },
   "file_extension": ".py",
   "mimetype": "text/x-python",
   "name": "python",
   "nbconvert_exporter": "python",
   "pygments_lexer": "ipython3",
   "version": "3.9.7"
  }
 },
 "nbformat": 4,
 "nbformat_minor": 5
}
