{
 "cells": [
  {
   "cell_type": "code",
   "execution_count": null,
   "id": "3e916fe0",
   "metadata": {},
   "outputs": [],
   "source": [
    "#Importerer nødvendige pakker\n",
    "\n",
    "import pandas as pd\n",
    "import os\n",
    "import sys"
   ]
  },
  {
   "cell_type": "code",
   "execution_count": null,
   "id": "1fd9efad",
   "metadata": {},
   "outputs": [],
   "source": [
    "#Lager liste\n",
    "\n",
    "for x in os.listdir():\n",
    "    print(x)"
   ]
  },
  {
   "cell_type": "code",
   "execution_count": null,
   "id": "753321c0",
   "metadata": {},
   "outputs": [],
   "source": [
    "#Deler datasettet opp i chunks\n",
    "\n",
    "ChunkSize = 5\n",
    "for chunk in pd.read_json(r\"/Users/joakimlarsen/Documents/MasterOppgave/NASDAQ_News.json\", lines=True, chunksize = ChunkSize):\n",
    "    print(chunk.shape)\n",
    "    print(\"=\"*66)\n",
    "    print(chunk.head(2))\n",
    "    print(\"=\"*66)\n",
    "    break"
   ]
  },
  {
   "cell_type": "code",
   "execution_count": null,
   "id": "ebfc613c",
   "metadata": {},
   "outputs": [],
   "source": [
    "#Lager liste med antall chunks\n",
    "\n",
    "MyList = []\n",
    "ChunkSize = 5\n",
    "for chunk in pd.read_json(r\"/Users/joakimlarsen/Documents/MasterOppgave/NASDAQ_News.json\", lines=True, chunksize = ChunkSize):\n",
    "    MyList.append(chunk)"
   ]
  },
  {
   "cell_type": "code",
   "execution_count": null,
   "id": "9b796177",
   "metadata": {},
   "outputs": [],
   "source": [
    "#Ser hvordan listen ser ut\n",
    "\n",
    "len(MyList)"
   ]
  },
  {
   "cell_type": "code",
   "execution_count": null,
   "id": "0248e5fb",
   "metadata": {},
   "outputs": [],
   "source": [
    "df2 = pd.concat(MyList, axis = 0)\n",
    "df2.shape"
   ]
  },
  {
   "cell_type": "code",
   "execution_count": null,
   "id": "baaf00de",
   "metadata": {},
   "outputs": [],
   "source": [
    "#Importerer filen til csv slik at vi kan fortsette filtreringen i R\n",
    "\n",
    "df2.to_csv(r'/Users/joakimlarsen/Documents/MasterOppgave\\NewsPerfekt.csv')"
   ]
  }
 ],
 "metadata": {
  "kernelspec": {
   "display_name": "Python 3 (ipykernel)",
   "language": "python",
   "name": "python3"
  },
  "language_info": {
   "codemirror_mode": {
    "name": "ipython",
    "version": 3
   },
   "file_extension": ".py",
   "mimetype": "text/x-python",
   "name": "python",
   "nbconvert_exporter": "python",
   "pygments_lexer": "ipython3",
   "version": "3.9.7"
  }
 },
 "nbformat": 4,
 "nbformat_minor": 5
}
