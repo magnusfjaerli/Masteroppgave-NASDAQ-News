{
 "cells": [
  {
   "cell_type": "code",
   "execution_count": null,
   "id": "02301619",
   "metadata": {},
   "outputs": [],
   "source": [
    "#Innstallerer pakker som er nødvendige\n",
    "\n",
    "pip install vaderSentiment\n",
    "pip install nltk\n",
    "import pandas as pd\n",
    "import numpy as np\n",
    "from textblob import TextBlob\n",
    "import re\n",
    "from vaderSentiment.vaderSentiment import SentimentIntensityAnalyzer\n",
    "from sklearn.model_selection import train_test_split\n",
    "from sklearn.metrics import accuracy_score, classification_report\n",
    "from sklearn.discriminant_analysis import LinearDiscriminantAnalysis\n",
    "from nltk.tokenize import sent_tokenize, word_tokenize"
   ]
  },
  {
   "cell_type": "code",
   "execution_count": null,
   "id": "27002092",
   "metadata": {},
   "outputs": [],
   "source": [
    "#Laster inn datasettet for et av selskapene som er blitt filtrert i R\n",
    "#Filtrert på artikler som er utgitt utenfor børsens åpningstid og kun omhandler et selskap\n",
    "\n",
    "AmazonR = pd.read_csv(r\"/Users/joakimlarsen/Documents/MasterOppgave/Amazon/Amazon_Ferdig.csv\")"
   ]
  },
  {
   "cell_type": "code",
   "execution_count": null,
   "id": "1cd48c7e",
   "metadata": {},
   "outputs": [],
   "source": [
    "AmazonR.shape"
   ]
  },
  {
   "cell_type": "code",
   "execution_count": null,
   "id": "5b3a89b6",
   "metadata": {},
   "outputs": [],
   "source": [
    "#Ser hvordan datasettet ser ut\n",
    "\n",
    "AmazonR.head(3)"
   ]
  },
  {
   "cell_type": "code",
   "execution_count": null,
   "id": "718c8ce1",
   "metadata": {},
   "outputs": [],
   "source": [
    "#Laster inn datasettet med selskapets aksjepriser, hentet fra Yahoo Finance direkte i Python\n",
    "\n",
    "AmazonAksje = pd.read_csv(r\"/Users/joakimlarsen/Documents/MasterOppgave/Amazon/AmazonPrice_Label.csv\")"
   ]
  },
  {
   "cell_type": "code",
   "execution_count": null,
   "id": "062499ac",
   "metadata": {},
   "outputs": [],
   "source": [
    "AmazonAksje.shape"
   ]
  },
  {
   "cell_type": "code",
   "execution_count": null,
   "id": "0f256667",
   "metadata": {},
   "outputs": [],
   "source": [
    "#Ser hvordan datasettet ser ut\n",
    "\n",
    "AmazonAksje.head(3)"
   ]
  },
  {
   "cell_type": "code",
   "execution_count": null,
   "id": "137a4196",
   "metadata": {},
   "outputs": [],
   "source": [
    "#Merger datasettene på dato\n",
    "\n",
    "merge = AmazonR.merge(AmazonAksje, how = \"inner\", on = \"Date\")"
   ]
  },
  {
   "cell_type": "code",
   "execution_count": null,
   "id": "9a2a0772",
   "metadata": {},
   "outputs": [],
   "source": [
    "#Lager en funksjon som fanger opp subjektivitet\n",
    "def getSubjectivity(text):\n",
    "    return TextBlob(text).sentiment.subjectivity\n",
    "\n",
    "#Lager en funksjon som fanger opp polaritet\n",
    "def getPolarity(text):\n",
    "    return TextBlob(text).sentiment.polarity"
   ]
  },
  {
   "cell_type": "code",
   "execution_count": null,
   "id": "302556e7",
   "metadata": {},
   "outputs": [],
   "source": [
    "#Lager to nye kolonner som heter \"Subjectivity\" og \"Polarity\"\n",
    "\n",
    "merge[\"Subjectivity\"] = merge[\"article_content\"].apply(getSubjectivity)\n",
    "merge[\"Polarity\"] = merge[\"article_content\"].apply(getPolarity)"
   ]
  },
  {
   "cell_type": "code",
   "execution_count": null,
   "id": "91dd37ae",
   "metadata": {},
   "outputs": [],
   "source": [
    "#Importerer og laster inn stopword funksjon fra NLTK\n",
    "\n",
    "import nltk\n",
    "\n",
    "from nltk.corpus import stopwords\n",
    "stop = stopwords.words('english')"
   ]
  },
  {
   "cell_type": "code",
   "execution_count": null,
   "id": "5b1ccdb6",
   "metadata": {},
   "outputs": [],
   "source": [
    "#Lager en ny kolonne i \"merge\" etter at stopword har blitt innført på artikkel innholdet\n",
    "\n",
    "merge['article_content_without_stopwords'] = merge['article_content'].apply(lambda x: ' '.join([word for word in x.split() if word not in (stop)]))"
   ]
  },
  {
   "cell_type": "code",
   "execution_count": null,
   "id": "5904785b",
   "metadata": {},
   "outputs": [],
   "source": [
    "#Importer PorterStemmer fra NLTK\n",
    "\n",
    "from nltk.stem import PorterStemmer\n",
    "\n",
    "port = PorterStemmer()"
   ]
  },
  {
   "cell_type": "code",
   "execution_count": null,
   "id": "bc79586a",
   "metadata": {},
   "outputs": [],
   "source": [
    "#Lager en funksjon som tar PorterStemming på artikkel innholdet etter stopword\n",
    "#Lager en ny kolonne som har dette innholdet\n",
    "\n",
    "def stem_words(article_content_without_stopwords):\n",
    "    return \" \".join([port.stem(word) for word in article_content_without_stopwords.split()])\n",
    "\n",
    "merge[\"EtterStemming\"] = merge[\"article_content_without_stopwords\"].apply(lambda article_content_without_stopwords: stem_words(article_content_without_stopwords))\n",
    "merge.head()"
   ]
  },
  {
   "cell_type": "code",
   "execution_count": null,
   "id": "45d55054",
   "metadata": {},
   "outputs": [],
   "source": [
    "#Lager en funksjon som finner sentiment scoren\n",
    "def getSIA(EtterStemming):\n",
    "    sia = SentimentIntensityAnalyzer()\n",
    "    sentiment = sia.polarity_scores(EtterStemming)\n",
    "    return sentiment"
   ]
  },
  {
   "cell_type": "code",
   "execution_count": null,
   "id": "1021720c",
   "metadata": {},
   "outputs": [],
   "source": [
    "#Laster inn leksikonet fra Vader\n",
    "\n",
    "nltk.download(\"vader_lexicon\")"
   ]
  },
  {
   "cell_type": "code",
   "execution_count": null,
   "id": "ba8f53b5",
   "metadata": {},
   "outputs": [],
   "source": [
    "#Henter tak i sentiment scorene for hver dag\n",
    "\n",
    "compound = []\n",
    "neg = []\n",
    "pos = []\n",
    "neu = []\n",
    "SIA = 0\n",
    "\n",
    "for i in range(0, len(merge[\"EtterStemming\"])):\n",
    "    SIA = getSIA(merge[\"EtterStemming\"][i])\n",
    "    compound.append(SIA[\"compound\"])\n",
    "    neg.append(SIA[\"neg\"])\n",
    "    neu.append(SIA[\"neu\"])\n",
    "    pos.append(SIA[\"pos\"])"
   ]
  },
  {
   "cell_type": "code",
   "execution_count": null,
   "id": "7cdcbc6b",
   "metadata": {},
   "outputs": [],
   "source": [
    "#Lager kolonner i datasettet \"merge\" slik at alle er samlet\n",
    "\n",
    "merge[\"Compound\"] = compound\n",
    "merge[\"Negative\"] = neg\n",
    "merge[\"Neutral\"] = neu\n",
    "merge[\"Positive\"] = pos"
   ]
  },
  {
   "cell_type": "code",
   "execution_count": null,
   "id": "4a70d0a6",
   "metadata": {},
   "outputs": [],
   "source": [
    "#Viser datasettet \"merge\"\n",
    "\n",
    "merge.head(3)"
   ]
  },
  {
   "cell_type": "code",
   "execution_count": null,
   "id": "da68cd91",
   "metadata": {},
   "outputs": [],
   "source": [
    "#Beholder nødvendige kolonner\n",
    "\n",
    "keep_columns = [\"Open\", \"Low\", \"High\", \"Date\", \"Close\", \"Volume\", \"Subjectivity\", \"Polarity\", \"Compound\", \"Negative\", \"Neutral\", \"Positive\", \"Label\"]\n",
    "df = merge[keep_columns]\n",
    "df"
   ]
  },
  {
   "cell_type": "code",
   "execution_count": null,
   "id": "848558ac",
   "metadata": {},
   "outputs": [],
   "source": [
    "#Gjør datasettet om til en csv fil\n",
    "\n",
    "df.to_csv(\"AmazonFørTrening.csv\")"
   ]
  },
  {
   "cell_type": "code",
   "execution_count": null,
   "id": "d3837adb",
   "metadata": {},
   "outputs": [],
   "source": [
    "#Filtrerer datasettet i R til train og test sett, der 80% er train og 20% er test.\n",
    "#Setter sammen alle selskapene innenfor de forskjellige sektorene til en fil.\n",
    "#Laster inn test settet innenfor sektoren\n",
    "\n",
    "TeknologiTest = pd.read_csv(r\"/Users/joakimlarsen/Documents/MasterOppgave/6 Big/TestTeknologiVader.csv\")"
   ]
  },
  {
   "cell_type": "code",
   "execution_count": null,
   "id": "1e89e3be",
   "metadata": {},
   "outputs": [],
   "source": [
    "TeknologiTest.shape"
   ]
  },
  {
   "cell_type": "code",
   "execution_count": null,
   "id": "c1631aba",
   "metadata": {},
   "outputs": [],
   "source": [
    "#Ser hvordan datasetter ser ut\n",
    "\n",
    "TeknologiTest.head(3)"
   ]
  },
  {
   "cell_type": "code",
   "execution_count": null,
   "id": "c7413356",
   "metadata": {},
   "outputs": [],
   "source": [
    "#Laster inn treningssettet for sektoren\n",
    "\n",
    "TeknologiTrain = pd.read_csv(r\"/Users/joakimlarsen/Documents/MasterOppgave/6 Big/TrainTeknologiVader.csv\")"
   ]
  },
  {
   "cell_type": "code",
   "execution_count": null,
   "id": "5ba6e956",
   "metadata": {},
   "outputs": [],
   "source": [
    "TeknologiTrain.shape"
   ]
  },
  {
   "cell_type": "code",
   "execution_count": null,
   "id": "780b2fa1",
   "metadata": {},
   "outputs": [],
   "source": [
    "#Ser hvordan datasettet ser ut\n",
    "\n",
    "TeknologiTrain.head(3)"
   ]
  },
  {
   "cell_type": "code",
   "execution_count": null,
   "id": "9a9536fe",
   "metadata": {},
   "outputs": [],
   "source": [
    "#Lager en liste hvor man bare beholder de kolonnene som er viktige\n",
    "#For Vader blir det disse:\n",
    "\n",
    "keep_columns1 = [\"Open\", \"Low\", \"High\", \"Volume\",\"Close\", \"Compound\", \"Negative\", \"Neutral\", \"Positive\", \"Label\"]\n",
    "df1 = TeknologiTest[keep_columns1]\n",
    "df1\n",
    "\n",
    "#For TextBlob blir det disse:\n",
    "\n",
    "keep_columns1 = [\"Open\", \"Low\", \"High\", \"Volume\",\"Close\", \"Subjectivity\", \"Polarity\", \"Label\"]\n",
    "df1 = TeknologiTest[keep_columns1]\n",
    "df1"
   ]
  },
  {
   "cell_type": "code",
   "execution_count": null,
   "id": "1924c11a",
   "metadata": {},
   "outputs": [],
   "source": [
    "#Lager en liste for datasettet som bare inneholder parameterne som sier noe om sentiment scoren\n",
    "\n",
    "X = df1\n",
    "X = np.array(X.drop([\"Label\", \"Open\", \"Low\", \"High\", \"Close\", \"Volume\"], 1))\n",
    "\n",
    "#Lager liste for om det faktisk er oppgang eller nedgang\n",
    "y = np.array(df1[\"Label\"])"
   ]
  },
  {
   "cell_type": "code",
   "execution_count": null,
   "id": "28365941",
   "metadata": {},
   "outputs": [],
   "source": [
    "#Ser hvordan listen ser ut\n",
    "\n",
    "X"
   ]
  },
  {
   "cell_type": "code",
   "execution_count": null,
   "id": "e2a58219",
   "metadata": {},
   "outputs": [],
   "source": [
    "#Ser hvordan listen ser ut\n",
    "\n",
    "y"
   ]
  },
  {
   "cell_type": "code",
   "execution_count": null,
   "id": "1ce9f472",
   "metadata": {},
   "outputs": [],
   "source": [
    "#Kaller X for test settet vårt\n",
    "\n",
    "x_test = X"
   ]
  },
  {
   "cell_type": "code",
   "execution_count": null,
   "id": "11c3f4f2",
   "metadata": {},
   "outputs": [],
   "source": [
    "#Sjekker lengden på settet\n",
    "\n",
    "len(x_test)"
   ]
  },
  {
   "cell_type": "code",
   "execution_count": null,
   "id": "a578a15a",
   "metadata": {},
   "outputs": [],
   "source": [
    "#Kaller y for y_test slik at det stemmer med test settet vårt\n",
    "\n",
    "y_test = y"
   ]
  },
  {
   "cell_type": "code",
   "execution_count": null,
   "id": "a71962e8",
   "metadata": {},
   "outputs": [],
   "source": [
    "#Sjekker lengden på settet\n",
    "\n",
    "len(y_test)"
   ]
  },
  {
   "cell_type": "code",
   "execution_count": null,
   "id": "f131320e",
   "metadata": {},
   "outputs": [],
   "source": [
    "#Lager en liste hvor man bare beholder de kolonnene som er viktige\n",
    "#For Vader blir det disse:\n",
    "\n",
    "keep_columns2 = [\"Open\", \"Low\", \"High\", \"Volume\", \"Close\", \"Compound\", \"Negative\", \"Neutral\", \"Positive\", \"Label\"]\n",
    "df2 = TeknologiTrain[keep_columns2]\n",
    "df2\n",
    "\n",
    "#For TextBlob blir det disse:\n",
    "\n",
    "keep_columns1 = [\"Open\", \"Low\", \"High\", \"Volume\",\"Close\", \"Subjectivity\", \"Polarity\", \"Label\"]\n",
    "df2 = TeknologiTest[keep_columns2]\n",
    "df2"
   ]
  },
  {
   "cell_type": "code",
   "execution_count": null,
   "id": "50c18469",
   "metadata": {},
   "outputs": [],
   "source": [
    "#Lager en liste for datasettet som bare inneholder parameterne som sier noe om sentiment scoren\n",
    "\n",
    "X1 = df2\n",
    "X1 = np.array(X1.drop([\"Label\", \"Open\", \"Low\", \"High\", \"Close\", \"Volume\"], 1))\n",
    "\n",
    "#Lager liste for om det faktisk er oppgang eller nedgang\n",
    "\n",
    "y1 = np.array(df2[\"Label\"])"
   ]
  },
  {
   "cell_type": "code",
   "execution_count": null,
   "id": "7e0a1888",
   "metadata": {},
   "outputs": [],
   "source": [
    "#Ser hvordan listen ser ut\n",
    "\n",
    "X1"
   ]
  },
  {
   "cell_type": "code",
   "execution_count": null,
   "id": "a5aa224d",
   "metadata": {},
   "outputs": [],
   "source": [
    "#Ser hvordan listen ser ut\n",
    "\n",
    "y1"
   ]
  },
  {
   "cell_type": "code",
   "execution_count": null,
   "id": "34abbfd6",
   "metadata": {},
   "outputs": [],
   "source": [
    "#Kaller X1 for treningssettet vårt\n",
    "\n",
    "x_train = X1"
   ]
  },
  {
   "cell_type": "code",
   "execution_count": null,
   "id": "a4e32c9a",
   "metadata": {},
   "outputs": [],
   "source": [
    "#Sjekker lengden på settet\n",
    "\n",
    "len(x_train)"
   ]
  },
  {
   "cell_type": "code",
   "execution_count": null,
   "id": "4bcc0c01",
   "metadata": {},
   "outputs": [],
   "source": [
    "#Kaller y1 for y_train slik at det stemmer med treningssettet vårt\n",
    "\n",
    "y_train = y1"
   ]
  },
  {
   "cell_type": "code",
   "execution_count": null,
   "id": "35233410",
   "metadata": {},
   "outputs": [],
   "source": [
    "#Sjekker lengden på settet\n",
    "\n",
    "len(y_train)"
   ]
  },
  {
   "cell_type": "code",
   "execution_count": null,
   "id": "d4e3f5b0",
   "metadata": {},
   "outputs": [],
   "source": [
    "#Lager en liste som inneholder begge listene vi lagde\n",
    "\n",
    "frame = [df1, df2]"
   ]
  },
  {
   "cell_type": "code",
   "execution_count": null,
   "id": "8fda828f",
   "metadata": {},
   "outputs": [],
   "source": [
    "#Ser hvordan settet ser ut\n",
    "\n",
    "result = pd.concat(frame)\n",
    "result.shape"
   ]
  },
  {
   "cell_type": "code",
   "execution_count": null,
   "id": "c2ff18d7",
   "metadata": {},
   "outputs": [],
   "source": [
    "#Importerer pakker som trengs for å kjøre deskriptiv statistikk\n",
    "\n",
    "import statistics\n",
    "from scipy.stats import skew\n",
    "from scipy.stats import norm, kurtosis"
   ]
  },
  {
   "cell_type": "code",
   "execution_count": null,
   "id": "2ffe35b8",
   "metadata": {},
   "outputs": [],
   "source": [
    "#Får frem mesteparten av den deskriptive statistikken som trengs\n",
    "\n",
    "result.describe(include = \"all\")"
   ]
  },
  {
   "cell_type": "code",
   "execution_count": null,
   "id": "ffd64618",
   "metadata": {},
   "outputs": [],
   "source": [
    "#Finner medianen på de forskjellige parameterne\n",
    "\n",
    "statistics.median(result[\" \"])"
   ]
  },
  {
   "cell_type": "code",
   "execution_count": null,
   "id": "498c68fd",
   "metadata": {},
   "outputs": [],
   "source": [
    "#Finner skjevheten på de forskjellige parameterne\n",
    "\n",
    "skew(result[\" \"])"
   ]
  },
  {
   "cell_type": "code",
   "execution_count": null,
   "id": "50c4ec1e",
   "metadata": {},
   "outputs": [],
   "source": [
    "#Finner kurtosen på de forskjellige parameterne\n",
    "\n",
    "kurtosis(result[\" \"])"
   ]
  },
  {
   "cell_type": "code",
   "execution_count": null,
   "id": "98b2f656",
   "metadata": {},
   "outputs": [],
   "source": [
    "#Lager og trener modell for LDA\n",
    "\n",
    "model = LinearDiscriminantAnalysis().fit(x_train, y_train)"
   ]
  },
  {
   "cell_type": "code",
   "execution_count": null,
   "id": "2c59bde7",
   "metadata": {},
   "outputs": [],
   "source": [
    "#Viser prediksjonene til modellen\n",
    "\n",
    "predictions = model.predict(x_test)\n",
    "predictions"
   ]
  },
  {
   "cell_type": "code",
   "execution_count": null,
   "id": "aabc488c",
   "metadata": {},
   "outputs": [],
   "source": [
    "#Viser om det faktisk er oppgang eller nedgang\n",
    "\n",
    "y_test"
   ]
  },
  {
   "cell_type": "code",
   "execution_count": null,
   "id": "69b6b69f",
   "metadata": {},
   "outputs": [],
   "source": [
    "#Viser modellen sine beregninger\n",
    "\n",
    "print( classification_report(y_test, predictions))"
   ]
  },
  {
   "cell_type": "code",
   "execution_count": null,
   "id": "37988e4a",
   "metadata": {},
   "outputs": [],
   "source": [
    "#Sjekker sannsynligheten for oppgang og nedgang\n",
    "\n",
    "Linear = model.predict_proba(x_test)\n",
    "Linear"
   ]
  },
  {
   "cell_type": "code",
   "execution_count": null,
   "id": "1942707c",
   "metadata": {},
   "outputs": [],
   "source": [
    "#Importerer pakke som er nødvendig\n",
    "\n",
    "from sklearn import metrics"
   ]
  },
  {
   "cell_type": "code",
   "execution_count": null,
   "id": "510204bc",
   "metadata": {},
   "outputs": [],
   "source": [
    "#Lager to kolonner som inneholder den prosentvise sjansen for oppgang og nedgang\n",
    "\n",
    "column_values_Linear = [\"Nedgang-Linear\", \"Oppgang-Linear\"]\n",
    "\n",
    "df6 = pd.DataFrame(data = Linear,\n",
    "                  columns = column_values_Linear)"
   ]
  },
  {
   "cell_type": "code",
   "execution_count": null,
   "id": "163f15a0",
   "metadata": {},
   "outputs": [],
   "source": [
    "#Trekker ut den ene kolonnen\n",
    "\n",
    "extracted_col_Linear = df6[\"Nedgang-Linear\"]\n",
    "extracted_col_Linear"
   ]
  },
  {
   "cell_type": "code",
   "execution_count": null,
   "id": "3150a8c9",
   "metadata": {},
   "outputs": [],
   "source": [
    "#Setter den utrekte kolonnen sammen med datasettet, det samme blir gjort for oppgang\n",
    "\n",
    "df1 = df1.join(extracted_col_Linear)\n",
    "df1"
   ]
  },
  {
   "cell_type": "code",
   "execution_count": null,
   "id": "243af22f",
   "metadata": {},
   "outputs": [],
   "source": [
    "#Lager og trener modell for Naive Bayes Gaussian\n",
    "\n",
    "from sklearn.naive_bayes import GaussianNB\n",
    "modelNB = GaussianNB()"
   ]
  },
  {
   "cell_type": "code",
   "execution_count": null,
   "id": "0da7359e",
   "metadata": {},
   "outputs": [],
   "source": [
    "#Trener modellen\n",
    "\n",
    "modelNB.fit(x_train, y_train)"
   ]
  },
  {
   "cell_type": "code",
   "execution_count": null,
   "id": "e4c2c6a8",
   "metadata": {},
   "outputs": [],
   "source": [
    "#Treffsikkerhet for modellen\n",
    "\n",
    "modelNB.score(x_test, y_test)"
   ]
  },
  {
   "cell_type": "code",
   "execution_count": null,
   "id": "45068266",
   "metadata": {},
   "outputs": [],
   "source": [
    "#Viser prediksjonene til modellen\n",
    "\n",
    "predictions1 = modelNB.predict(x_test)\n",
    "predictions1"
   ]
  },
  {
   "cell_type": "code",
   "execution_count": null,
   "id": "889c2ff3",
   "metadata": {},
   "outputs": [],
   "source": [
    "#Viser modellen sine beregninger\n",
    "\n",
    "print( classification_report(y_test, predictions1))"
   ]
  },
  {
   "cell_type": "code",
   "execution_count": null,
   "id": "b4ec6191",
   "metadata": {},
   "outputs": [],
   "source": [
    "#Sjekker sannsynligheten for oppgang og nedgang\n",
    "\n",
    "Bayes = modelNB.predict_proba(x_test)\n",
    "Bayes"
   ]
  },
  {
   "cell_type": "code",
   "execution_count": null,
   "id": "fc13667c",
   "metadata": {},
   "outputs": [],
   "source": [
    "#Lager kolonner for oppgang og nedgang slik som vist under LDA"
   ]
  },
  {
   "cell_type": "code",
   "execution_count": null,
   "id": "086d30c8",
   "metadata": {},
   "outputs": [],
   "source": [
    "#Lager og trener modell for KNN\n",
    "\n",
    "from sklearn.neighbors import KNeighborsClassifier\n",
    "knn = KNeighborsClassifier(n_neighbors = 9)\n",
    "knn.fit(x_train, y_train)"
   ]
  },
  {
   "cell_type": "code",
   "execution_count": null,
   "id": "660c7845",
   "metadata": {},
   "outputs": [],
   "source": [
    "#Treffsikkerhet for modellen\n",
    "\n",
    "knn_score = knn.score(x_test, y_test)\n",
    "print(\"Results for KNN Classifier:\")\n",
    "print(knn_score)"
   ]
  },
  {
   "cell_type": "code",
   "execution_count": null,
   "id": "26e86f12",
   "metadata": {},
   "outputs": [],
   "source": [
    "#Viser modellen sine beregninger\n",
    "\n",
    "from sklearn.metrics import confusion_matrix\n",
    "cm_knn = confusion_matrix(y_test, y_pred_knn)"
   ]
  },
  {
   "cell_type": "code",
   "execution_count": null,
   "id": "9ba82411",
   "metadata": {},
   "outputs": [],
   "source": [
    "#Viser true negative, false positive, false negative og true positive for modellen\n",
    "\n",
    "tn, fp, fn, tp = confusion_matrix(y_test, y_pred_knn).ravel()\n",
    "print(tn, fp, fn, tp)"
   ]
  },
  {
   "cell_type": "code",
   "execution_count": null,
   "id": "bfdd049e",
   "metadata": {},
   "outputs": [],
   "source": [
    "#Finner true positive og true negative som prosent\n",
    "\n",
    "tpr_knn = round(tp/(tp + fn), 4)\n",
    "tnr_knn = round(tn/(tn + fp), 4)\n",
    "print(tpr_knn, tnr_knn)"
   ]
  },
  {
   "cell_type": "code",
   "execution_count": null,
   "id": "b77f8326",
   "metadata": {},
   "outputs": [],
   "source": [
    "#Sjekker sannsynligheten for oppgang og nedgang\n",
    "\n",
    "KNN = knn.predict_proba(x_test)"
   ]
  },
  {
   "cell_type": "code",
   "execution_count": null,
   "id": "66330d0d",
   "metadata": {},
   "outputs": [],
   "source": [
    "#Finner prediksjonen for modellen\n",
    "\n",
    "predictions_KNN = knn.predict(x_test)\n",
    "predictions_KNN"
   ]
  },
  {
   "cell_type": "code",
   "execution_count": null,
   "id": "9deec4ff",
   "metadata": {},
   "outputs": [],
   "source": [
    "#Viser beregningene til modellen\n",
    "\n",
    "print( classification_report(y_test, predictions_KNN))"
   ]
  },
  {
   "cell_type": "code",
   "execution_count": null,
   "id": "a452bec3",
   "metadata": {},
   "outputs": [],
   "source": [
    "#Lager egne kolonner for oppgang og nedgang som under LDA og Naive Bayes"
   ]
  },
  {
   "cell_type": "code",
   "execution_count": null,
   "id": "d021e084",
   "metadata": {},
   "outputs": [],
   "source": [
    "#Innstallerer pakker som er nødvendig\n",
    "\n",
    "from sklearn import svm"
   ]
  },
  {
   "cell_type": "code",
   "execution_count": null,
   "id": "1ba1f5d1",
   "metadata": {},
   "outputs": [],
   "source": [
    "#Lager og trener modellen for Sector Vector Machine\n",
    "\n",
    "cls1 = svm.LinearSVC()\n",
    "cls1.fit(x_train, y_train)"
   ]
  },
  {
   "cell_type": "code",
   "execution_count": null,
   "id": "8d76f5b0",
   "metadata": {},
   "outputs": [],
   "source": [
    "#Viser prediksjonen til modellen\n",
    "\n",
    "predSVC1 = cls1.predict(x_test)\n",
    "predSVC1"
   ]
  },
  {
   "cell_type": "code",
   "execution_count": null,
   "id": "309b1235",
   "metadata": {},
   "outputs": [],
   "source": [
    "#Viser beregningene til modellen\n",
    "\n",
    "print( classification_report(y_test, predSVC1))"
   ]
  },
  {
   "cell_type": "code",
   "execution_count": null,
   "id": "6af5daf3",
   "metadata": {},
   "outputs": [],
   "source": [
    "#Sjekker sannsynligheten for oppgang og nedgang\n",
    "\n",
    "Support = cls1._predict_proba_lr(x_test)\n",
    "Support"
   ]
  },
  {
   "cell_type": "code",
   "execution_count": null,
   "id": "83047465",
   "metadata": {},
   "outputs": [],
   "source": [
    "#Lager egne kolonner for oppgang og nedgang slik som under de foregående klassifikatorene"
   ]
  },
  {
   "cell_type": "code",
   "execution_count": null,
   "id": "8d3ec4da",
   "metadata": {},
   "outputs": [],
   "source": [
    "#Importerer pakker som er nødvendig\n",
    "\n",
    "from sklearn.tree import DecisionTreeClassifier, plot_tree"
   ]
  },
  {
   "cell_type": "code",
   "execution_count": null,
   "id": "d014f8ef",
   "metadata": {},
   "outputs": [],
   "source": [
    "#Lager og trener modellen\n",
    "\n",
    "tree1 = DecisionTreeClassifier(max_depth = 4)\n",
    "tree1 = tree1.fit(x_train, y_train)"
   ]
  },
  {
   "cell_type": "code",
   "execution_count": null,
   "id": "caf5da00",
   "metadata": {},
   "outputs": [],
   "source": [
    "#Viser informasjon om treet\n",
    "\n",
    "tree1.get_params()"
   ]
  },
  {
   "cell_type": "code",
   "execution_count": null,
   "id": "252bbc68",
   "metadata": {},
   "outputs": [],
   "source": [
    "#Viser prediksjonen til modellen\n",
    "\n",
    "predictionsTree = tree1.predict(x_test)\n",
    "predictionsTree"
   ]
  },
  {
   "cell_type": "code",
   "execution_count": null,
   "id": "a0b90d7f",
   "metadata": {},
   "outputs": [],
   "source": [
    "#Viser prediksjonen til modellen i prosent\n",
    "\n",
    "Tree2 = tree1.predict_proba(x_test)\n",
    "Tree2"
   ]
  },
  {
   "cell_type": "code",
   "execution_count": null,
   "id": "f8a85325",
   "metadata": {},
   "outputs": [],
   "source": [
    "#Viser beregningene til modellen\n",
    "\n",
    "from sklearn.metrics import classification_report\n",
    "print(classification_report(y_test, predictionsTree))"
   ]
  },
  {
   "cell_type": "code",
   "execution_count": null,
   "id": "587c29cf",
   "metadata": {},
   "outputs": [],
   "source": [
    "#Fjerner de parameterne som ikke er nødvendige for modellen\n",
    "\n",
    "feature_names3 = df1.columns.drop([\"Open\", \"Low\", \"High\", \"Volume\", \"Close\", \"Label\", \"Nedgang-Bayes\", \"Oppgang-Bayes\", \"Nedgang-KNN\", \"Oppgang-KNN\", \"Nedgang-Linear\", \"Oppgang-Linear\", \"Nedgang-Support\", \"Oppgang-Support\", \"Nedgang-Tree\", \"Oppgang-Tree\"], 1)\n",
    "feature_names3"
   ]
  },
  {
   "cell_type": "code",
   "execution_count": null,
   "id": "8db3ca0b",
   "metadata": {},
   "outputs": [],
   "source": [
    "#Viser prosentvis viktighet for hver av parameterne som er igjen\n",
    "\n",
    "tree1.feature_importances_"
   ]
  },
  {
   "cell_type": "code",
   "execution_count": null,
   "id": "0f0cce53",
   "metadata": {},
   "outputs": [],
   "source": [
    "#Viser det i tabellform\n",
    "\n",
    "feature_importance = pd.DataFrame(tree1.feature_importances_, index = feature_names3)\n",
    "feature_importance"
   ]
  },
  {
   "cell_type": "code",
   "execution_count": null,
   "id": "28ee4a4b",
   "metadata": {},
   "outputs": [],
   "source": [
    "#Viser det grafisk\n",
    "\n",
    "feature_importance.head(10).plot(kind = \"bar\")"
   ]
  },
  {
   "cell_type": "code",
   "execution_count": null,
   "id": "bc2e16b5",
   "metadata": {},
   "outputs": [],
   "source": [
    "#Lager et decision tree som viser oss valgene og om det er nedgang eller oppgang\n",
    "\n",
    "from sklearn import tree\n",
    "from matplotlib import pyplot as plt\n",
    "\n",
    "fig = plt.figure(figsize = (35,30))\n",
    "_ = tree.plot_tree(tree1,\n",
    "                   feature_names = feature_names3,\n",
    "                   class_names = {0: \"Nedgang\", 1: \"Oppgang\"},\n",
    "                   filled = True,\n",
    "                   fontsize = 12)"
   ]
  },
  {
   "cell_type": "code",
   "execution_count": null,
   "id": "c4d9ddbd",
   "metadata": {},
   "outputs": [],
   "source": [
    "#Lager egne kolonner for oppgang og nedgang slik som under de foregående klassifikatorene"
   ]
  },
  {
   "cell_type": "code",
   "execution_count": null,
   "id": "e50e23d2",
   "metadata": {},
   "outputs": [],
   "source": [
    "#Gjør hele datasettet om til en csv fil før vi gjennomfører en trading strategi ved hjelp av excel"
   ]
  }
 ],
 "metadata": {
  "kernelspec": {
   "display_name": "Python 3 (ipykernel)",
   "language": "python",
   "name": "python3"
  },
  "language_info": {
   "codemirror_mode": {
    "name": "ipython",
    "version": 3
   },
   "file_extension": ".py",
   "mimetype": "text/x-python",
   "name": "python",
   "nbconvert_exporter": "python",
   "pygments_lexer": "ipython3",
   "version": "3.9.7"
  }
 },
 "nbformat": 4,
 "nbformat_minor": 5
}
