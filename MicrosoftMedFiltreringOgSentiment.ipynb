{
 "cells": [
  {
   "cell_type": "code",
   "execution_count": 1,
   "id": "a9bef3a9",
   "metadata": {},
   "outputs": [
    {
     "name": "stdout",
     "output_type": "stream",
     "text": [
      "Requirement already satisfied: vaderSentiment in /Users/joakimlarsen/opt/anaconda3/lib/python3.9/site-packages (3.3.2)\n",
      "Requirement already satisfied: requests in /Users/joakimlarsen/opt/anaconda3/lib/python3.9/site-packages (from vaderSentiment) (2.26.0)\n",
      "Requirement already satisfied: certifi>=2017.4.17 in /Users/joakimlarsen/opt/anaconda3/lib/python3.9/site-packages (from requests->vaderSentiment) (2021.10.8)\n",
      "Requirement already satisfied: charset-normalizer~=2.0.0 in /Users/joakimlarsen/opt/anaconda3/lib/python3.9/site-packages (from requests->vaderSentiment) (2.0.4)\n",
      "Requirement already satisfied: urllib3<1.27,>=1.21.1 in /Users/joakimlarsen/opt/anaconda3/lib/python3.9/site-packages (from requests->vaderSentiment) (1.26.7)\n",
      "Requirement already satisfied: idna<4,>=2.5 in /Users/joakimlarsen/opt/anaconda3/lib/python3.9/site-packages (from requests->vaderSentiment) (3.2)\n",
      "Note: you may need to restart the kernel to use updated packages.\n"
     ]
    }
   ],
   "source": [
    "pip install vaderSentiment"
   ]
  },
  {
   "cell_type": "code",
   "execution_count": 2,
   "id": "b30945e6",
   "metadata": {},
   "outputs": [
    {
     "name": "stdout",
     "output_type": "stream",
     "text": [
      "Requirement already satisfied: nltk in /Users/joakimlarsen/opt/anaconda3/lib/python3.9/site-packages (3.6.5)\n",
      "Requirement already satisfied: click in /Users/joakimlarsen/opt/anaconda3/lib/python3.9/site-packages (from nltk) (8.0.3)\n",
      "Requirement already satisfied: joblib in /Users/joakimlarsen/opt/anaconda3/lib/python3.9/site-packages (from nltk) (1.1.0)\n",
      "Requirement already satisfied: regex>=2021.8.3 in /Users/joakimlarsen/opt/anaconda3/lib/python3.9/site-packages (from nltk) (2021.8.3)\n",
      "Requirement already satisfied: tqdm in /Users/joakimlarsen/opt/anaconda3/lib/python3.9/site-packages (from nltk) (4.62.3)\n",
      "Note: you may need to restart the kernel to use updated packages.\n"
     ]
    }
   ],
   "source": [
    "pip install nltk"
   ]
  },
  {
   "cell_type": "code",
   "execution_count": 3,
   "id": "bf1f3113",
   "metadata": {},
   "outputs": [],
   "source": [
    "import pandas as pd\n",
    "import numpy as np\n",
    "from textblob import TextBlob\n",
    "import re\n",
    "from nltk.sentiment import SentimentIntensityAnalyzer\n",
    "from sklearn.model_selection import train_test_split\n",
    "from sklearn.metrics import accuracy_score, classification_report\n",
    "from sklearn.discriminant_analysis import LinearDiscriminantAnalysis"
   ]
  },
  {
   "cell_type": "code",
   "execution_count": 11,
   "id": "4512bd62",
   "metadata": {},
   "outputs": [],
   "source": [
    "MicrosoftR = pd.read_csv(r\"/Users/joakimlarsen/Documents/MasterOppgave/Microsoft/Microsoft_Ferdig.csv\")"
   ]
  },
  {
   "cell_type": "code",
   "execution_count": 12,
   "id": "ddef383d",
   "metadata": {},
   "outputs": [
    {
     "data": {
      "text/plain": [
       "(1812, 16)"
      ]
     },
     "execution_count": 12,
     "metadata": {},
     "output_type": "execute_result"
    }
   ],
   "source": [
    "MicrosoftR.shape"
   ]
  },
  {
   "cell_type": "code",
   "execution_count": 13,
   "id": "ca1eb037",
   "metadata": {},
   "outputs": [
    {
     "data": {
      "text/html": [
       "<div>\n",
       "<style scoped>\n",
       "    .dataframe tbody tr th:only-of-type {\n",
       "        vertical-align: middle;\n",
       "    }\n",
       "\n",
       "    .dataframe tbody tr th {\n",
       "        vertical-align: top;\n",
       "    }\n",
       "\n",
       "    .dataframe thead th {\n",
       "        text-align: right;\n",
       "    }\n",
       "</style>\n",
       "<table border=\"1\" class=\"dataframe\">\n",
       "  <thead>\n",
       "    <tr style=\"text-align: right;\">\n",
       "      <th></th>\n",
       "      <th>Unnamed: 0</th>\n",
       "      <th>Date</th>\n",
       "      <th>Time</th>\n",
       "      <th>X.1</th>\n",
       "      <th>X</th>\n",
       "      <th>X_id</th>\n",
       "      <th>article_link</th>\n",
       "      <th>article_title</th>\n",
       "      <th>article_time</th>\n",
       "      <th>author_name</th>\n",
       "      <th>author_link</th>\n",
       "      <th>article_content</th>\n",
       "      <th>appears_in</th>\n",
       "      <th>symbols</th>\n",
       "      <th>related_articles</th>\n",
       "      <th>Time.1</th>\n",
       "    </tr>\n",
       "  </thead>\n",
       "  <tbody>\n",
       "    <tr>\n",
       "      <th>0</th>\n",
       "      <td>2</td>\n",
       "      <td>2018-03-13</td>\n",
       "      <td>18:42:00</td>\n",
       "      <td>2</td>\n",
       "      <td>473</td>\n",
       "      <td>{'$oid': '5ab8d21e3efc2c03c520d00f'}</td>\n",
       "      <td>https://www.nasdaq.com/article/is-oracle-orcl-...</td>\n",
       "      <td>Is Oracle (ORCL) Set to Beat Earnings Estimate...</td>\n",
       "      <td>{'$date': '2018-03-12T18:42:00Z'}</td>\n",
       "      <td>By Benjamin Rains, Zacks.com</td>\n",
       "      <td>https://www.nasdaq.com/author/zacks</td>\n",
       "      <td>Cloud computing has been one of the most well-...</td>\n",
       "      <td>Investing,Earnings</td>\n",
       "      <td>AMZN,GOOGL,WDAY,MSFT,CRM</td>\n",
       "      <td>NaN</td>\n",
       "      <td>{'$date': '2018-03-12T18:42:00Z'}</td>\n",
       "    </tr>\n",
       "    <tr>\n",
       "      <th>1</th>\n",
       "      <td>4</td>\n",
       "      <td>2018-03-13</td>\n",
       "      <td>22:09:00</td>\n",
       "      <td>4</td>\n",
       "      <td>849</td>\n",
       "      <td>{'$oid': '5ab8d1dc3efc2c03c520cf8b'}</td>\n",
       "      <td>https://www.nasdaq.com/article/1-smart-artific...</td>\n",
       "      <td>1 Smart Artificial Intelligence Bet You Can Ma...</td>\n",
       "      <td>{'$date': '2018-03-12T22:09:00Z'}</td>\n",
       "      <td>By Harsh Chauhan, Motley Fool</td>\n",
       "      <td>https://www.nasdaq.com/author/fool</td>\n",
       "      <td>A report by IDC, which follows the tech indust...</td>\n",
       "      <td>PersonalFinance,Stocks</td>\n",
       "      <td>MSFT,AI,GOOGL,AMZN,GOOG</td>\n",
       "      <td>NaN</td>\n",
       "      <td>{'$date': '2018-03-12T22:09:00Z'}</td>\n",
       "    </tr>\n",
       "    <tr>\n",
       "      <th>2</th>\n",
       "      <td>6</td>\n",
       "      <td>2018-03-15</td>\n",
       "      <td>16:44:00</td>\n",
       "      <td>6</td>\n",
       "      <td>1313</td>\n",
       "      <td>{'$oid': '5ab8decb3efc2c03c520ec83'}</td>\n",
       "      <td>https://www.nasdaq.com/article/3-large-cap-etf...</td>\n",
       "      <td>3 Large-Cap ETFs With Solid Inflows in March</td>\n",
       "      <td>{'$date': '2018-03-14T16:44:00Z'}</td>\n",
       "      <td>By Zacks Equity Research, Zacks.com</td>\n",
       "      <td>https://www.nasdaq.com/author/zacks</td>\n",
       "      <td>Wall Street has been recovering lately as fear...</td>\n",
       "      <td>Investing,ETFs</td>\n",
       "      <td>AMZN,GOOGL,AAPL,MSFT,VV</td>\n",
       "      <td>NaN</td>\n",
       "      <td>{'$date': '2018-03-14T16:44:00Z'}</td>\n",
       "    </tr>\n",
       "  </tbody>\n",
       "</table>\n",
       "</div>"
      ],
      "text/plain": [
       "   Unnamed: 0        Date      Time  X.1     X  \\\n",
       "0           2  2018-03-13  18:42:00    2   473   \n",
       "1           4  2018-03-13  22:09:00    4   849   \n",
       "2           6  2018-03-15  16:44:00    6  1313   \n",
       "\n",
       "                                   X_id  \\\n",
       "0  {'$oid': '5ab8d21e3efc2c03c520d00f'}   \n",
       "1  {'$oid': '5ab8d1dc3efc2c03c520cf8b'}   \n",
       "2  {'$oid': '5ab8decb3efc2c03c520ec83'}   \n",
       "\n",
       "                                        article_link  \\\n",
       "0  https://www.nasdaq.com/article/is-oracle-orcl-...   \n",
       "1  https://www.nasdaq.com/article/1-smart-artific...   \n",
       "2  https://www.nasdaq.com/article/3-large-cap-etf...   \n",
       "\n",
       "                                       article_title  \\\n",
       "0  Is Oracle (ORCL) Set to Beat Earnings Estimate...   \n",
       "1  1 Smart Artificial Intelligence Bet You Can Ma...   \n",
       "2       3 Large-Cap ETFs With Solid Inflows in March   \n",
       "\n",
       "                        article_time                          author_name  \\\n",
       "0  {'$date': '2018-03-12T18:42:00Z'}         By Benjamin Rains, Zacks.com   \n",
       "1  {'$date': '2018-03-12T22:09:00Z'}        By Harsh Chauhan, Motley Fool   \n",
       "2  {'$date': '2018-03-14T16:44:00Z'}  By Zacks Equity Research, Zacks.com   \n",
       "\n",
       "                           author_link  \\\n",
       "0  https://www.nasdaq.com/author/zacks   \n",
       "1   https://www.nasdaq.com/author/fool   \n",
       "2  https://www.nasdaq.com/author/zacks   \n",
       "\n",
       "                                     article_content              appears_in  \\\n",
       "0  Cloud computing has been one of the most well-...      Investing,Earnings   \n",
       "1  A report by IDC, which follows the tech indust...  PersonalFinance,Stocks   \n",
       "2  Wall Street has been recovering lately as fear...          Investing,ETFs   \n",
       "\n",
       "                    symbols related_articles  \\\n",
       "0  AMZN,GOOGL,WDAY,MSFT,CRM              NaN   \n",
       "1   MSFT,AI,GOOGL,AMZN,GOOG              NaN   \n",
       "2   AMZN,GOOGL,AAPL,MSFT,VV              NaN   \n",
       "\n",
       "                              Time.1  \n",
       "0  {'$date': '2018-03-12T18:42:00Z'}  \n",
       "1  {'$date': '2018-03-12T22:09:00Z'}  \n",
       "2  {'$date': '2018-03-14T16:44:00Z'}  "
      ]
     },
     "execution_count": 13,
     "metadata": {},
     "output_type": "execute_result"
    }
   ],
   "source": [
    "MicrosoftR.head(3)"
   ]
  },
  {
   "cell_type": "code",
   "execution_count": 7,
   "id": "ffbde604",
   "metadata": {},
   "outputs": [],
   "source": [
    "MicrosoftAksje = pd.read_csv(r\"/Users/joakimlarsen/Documents/MasterOppgave/Microsoft/Microsoft_Prices_Label.csv\")"
   ]
  },
  {
   "cell_type": "code",
   "execution_count": 8,
   "id": "251c866e",
   "metadata": {},
   "outputs": [
    {
     "data": {
      "text/plain": [
       "(8710, 8)"
      ]
     },
     "execution_count": 8,
     "metadata": {},
     "output_type": "execute_result"
    }
   ],
   "source": [
    "MicrosoftAksje.shape"
   ]
  },
  {
   "cell_type": "code",
   "execution_count": 9,
   "id": "79478c0e",
   "metadata": {},
   "outputs": [
    {
     "data": {
      "text/html": [
       "<div>\n",
       "<style scoped>\n",
       "    .dataframe tbody tr th:only-of-type {\n",
       "        vertical-align: middle;\n",
       "    }\n",
       "\n",
       "    .dataframe tbody tr th {\n",
       "        vertical-align: top;\n",
       "    }\n",
       "\n",
       "    .dataframe thead th {\n",
       "        text-align: right;\n",
       "    }\n",
       "</style>\n",
       "<table border=\"1\" class=\"dataframe\">\n",
       "  <thead>\n",
       "    <tr style=\"text-align: right;\">\n",
       "      <th></th>\n",
       "      <th>Date</th>\n",
       "      <th>Open</th>\n",
       "      <th>High</th>\n",
       "      <th>Low</th>\n",
       "      <th>Close</th>\n",
       "      <th>Adj Close</th>\n",
       "      <th>Volume</th>\n",
       "      <th>Label</th>\n",
       "    </tr>\n",
       "  </thead>\n",
       "  <tbody>\n",
       "    <tr>\n",
       "      <th>0</th>\n",
       "      <td>1986-03-13</td>\n",
       "      <td>0.088542</td>\n",
       "      <td>0.101563</td>\n",
       "      <td>0.088542</td>\n",
       "      <td>0.097222</td>\n",
       "      <td>0.062055</td>\n",
       "      <td>1031788800</td>\n",
       "      <td>1</td>\n",
       "    </tr>\n",
       "    <tr>\n",
       "      <th>1</th>\n",
       "      <td>1986-03-14</td>\n",
       "      <td>0.097222</td>\n",
       "      <td>0.102431</td>\n",
       "      <td>0.097222</td>\n",
       "      <td>0.100694</td>\n",
       "      <td>0.064271</td>\n",
       "      <td>308160000</td>\n",
       "      <td>1</td>\n",
       "    </tr>\n",
       "    <tr>\n",
       "      <th>2</th>\n",
       "      <td>1986-03-17</td>\n",
       "      <td>0.100694</td>\n",
       "      <td>0.103299</td>\n",
       "      <td>0.100694</td>\n",
       "      <td>0.102431</td>\n",
       "      <td>0.065379</td>\n",
       "      <td>133171200</td>\n",
       "      <td>1</td>\n",
       "    </tr>\n",
       "  </tbody>\n",
       "</table>\n",
       "</div>"
      ],
      "text/plain": [
       "         Date      Open      High       Low     Close  Adj Close      Volume  \\\n",
       "0  1986-03-13  0.088542  0.101563  0.088542  0.097222   0.062055  1031788800   \n",
       "1  1986-03-14  0.097222  0.102431  0.097222  0.100694   0.064271   308160000   \n",
       "2  1986-03-17  0.100694  0.103299  0.100694  0.102431   0.065379   133171200   \n",
       "\n",
       "   Label  \n",
       "0      1  \n",
       "1      1  \n",
       "2      1  "
      ]
     },
     "execution_count": 9,
     "metadata": {},
     "output_type": "execute_result"
    }
   ],
   "source": [
    "MicrosoftAksje.head(3)"
   ]
  },
  {
   "cell_type": "code",
   "execution_count": 14,
   "id": "4a511d46",
   "metadata": {},
   "outputs": [],
   "source": [
    "#Merge datasettene\n",
    "merge = MicrosoftR.merge(MicrosoftAksje, how = \"inner\", on = \"Date\")"
   ]
  },
  {
   "cell_type": "code",
   "execution_count": 15,
   "id": "bf14c623",
   "metadata": {},
   "outputs": [],
   "source": [
    "#Create a function to get the subjecticity\n",
    "def getSubjectivity(text):\n",
    "    return TextBlob(text).sentiment.subjectivity\n",
    "\n",
    "#Create a fuction to get the polarity\n",
    "def getPolarity(text):\n",
    "    return TextBlob(text).sentiment.polarity"
   ]
  },
  {
   "cell_type": "code",
   "execution_count": 16,
   "id": "74cbfdb9",
   "metadata": {},
   "outputs": [],
   "source": [
    "#Create two new columns \"Subjectivity\" and \"Polarity\"\n",
    "merge[\"Subjectivity\"] = merge[\"article_content\"].apply(getSubjectivity)\n",
    "merge[\"Polarity\"] = merge[\"article_content\"].apply(getPolarity)"
   ]
  },
  {
   "cell_type": "code",
   "execution_count": 17,
   "id": "ec9c2eea",
   "metadata": {},
   "outputs": [],
   "source": [
    "import nltk\n",
    "\n",
    "from nltk.corpus import stopwords\n",
    "stop = stopwords.words('english')"
   ]
  },
  {
   "cell_type": "code",
   "execution_count": 18,
   "id": "b0e09525",
   "metadata": {},
   "outputs": [],
   "source": [
    "merge['article_content_without_stopwords'] = merge['article_content'].apply(lambda x: ' '.join([word for word in x.split() if word not in (stop)]))"
   ]
  },
  {
   "cell_type": "code",
   "execution_count": 19,
   "id": "31fdc511",
   "metadata": {},
   "outputs": [],
   "source": [
    "from nltk.stem import PorterStemmer\n",
    "\n",
    "port = PorterStemmer()"
   ]
  },
  {
   "cell_type": "code",
   "execution_count": 20,
   "id": "35281aad",
   "metadata": {},
   "outputs": [
    {
     "data": {
      "text/html": [
       "<div>\n",
       "<style scoped>\n",
       "    .dataframe tbody tr th:only-of-type {\n",
       "        vertical-align: middle;\n",
       "    }\n",
       "\n",
       "    .dataframe tbody tr th {\n",
       "        vertical-align: top;\n",
       "    }\n",
       "\n",
       "    .dataframe thead th {\n",
       "        text-align: right;\n",
       "    }\n",
       "</style>\n",
       "<table border=\"1\" class=\"dataframe\">\n",
       "  <thead>\n",
       "    <tr style=\"text-align: right;\">\n",
       "      <th></th>\n",
       "      <th>Unnamed: 0</th>\n",
       "      <th>Date</th>\n",
       "      <th>Time</th>\n",
       "      <th>X.1</th>\n",
       "      <th>X</th>\n",
       "      <th>X_id</th>\n",
       "      <th>article_link</th>\n",
       "      <th>article_title</th>\n",
       "      <th>article_time</th>\n",
       "      <th>author_name</th>\n",
       "      <th>...</th>\n",
       "      <th>High</th>\n",
       "      <th>Low</th>\n",
       "      <th>Close</th>\n",
       "      <th>Adj Close</th>\n",
       "      <th>Volume</th>\n",
       "      <th>Label</th>\n",
       "      <th>Subjectivity</th>\n",
       "      <th>Polarity</th>\n",
       "      <th>article_content_without_stopwords</th>\n",
       "      <th>EtterStemming</th>\n",
       "    </tr>\n",
       "  </thead>\n",
       "  <tbody>\n",
       "    <tr>\n",
       "      <th>0</th>\n",
       "      <td>2</td>\n",
       "      <td>2018-03-13</td>\n",
       "      <td>18:42:00</td>\n",
       "      <td>2</td>\n",
       "      <td>473</td>\n",
       "      <td>{'$oid': '5ab8d21e3efc2c03c520d00f'}</td>\n",
       "      <td>https://www.nasdaq.com/article/is-oracle-orcl-...</td>\n",
       "      <td>Is Oracle (ORCL) Set to Beat Earnings Estimate...</td>\n",
       "      <td>{'$date': '2018-03-12T18:42:00Z'}</td>\n",
       "      <td>By Benjamin Rains, Zacks.com</td>\n",
       "      <td>...</td>\n",
       "      <td>97.239998</td>\n",
       "      <td>93.970001</td>\n",
       "      <td>94.410004</td>\n",
       "      <td>91.155731</td>\n",
       "      <td>35387800</td>\n",
       "      <td>0</td>\n",
       "      <td>0.475277</td>\n",
       "      <td>0.108063</td>\n",
       "      <td>Cloud computing one well-known drivers growth ...</td>\n",
       "      <td>cloud comput one well-known driver growth tech...</td>\n",
       "    </tr>\n",
       "    <tr>\n",
       "      <th>1</th>\n",
       "      <td>4</td>\n",
       "      <td>2018-03-13</td>\n",
       "      <td>22:09:00</td>\n",
       "      <td>4</td>\n",
       "      <td>849</td>\n",
       "      <td>{'$oid': '5ab8d1dc3efc2c03c520cf8b'}</td>\n",
       "      <td>https://www.nasdaq.com/article/1-smart-artific...</td>\n",
       "      <td>1 Smart Artificial Intelligence Bet You Can Ma...</td>\n",
       "      <td>{'$date': '2018-03-12T22:09:00Z'}</td>\n",
       "      <td>By Harsh Chauhan, Motley Fool</td>\n",
       "      <td>...</td>\n",
       "      <td>97.239998</td>\n",
       "      <td>93.970001</td>\n",
       "      <td>94.410004</td>\n",
       "      <td>91.155731</td>\n",
       "      <td>35387800</td>\n",
       "      <td>0</td>\n",
       "      <td>0.440061</td>\n",
       "      <td>0.169724</td>\n",
       "      <td>A report IDC, follows tech industry, estimates...</td>\n",
       "      <td>a report idc, follow tech industry, estim worl...</td>\n",
       "    </tr>\n",
       "    <tr>\n",
       "      <th>2</th>\n",
       "      <td>10</td>\n",
       "      <td>2018-03-13</td>\n",
       "      <td>16:12:00</td>\n",
       "      <td>10</td>\n",
       "      <td>1660</td>\n",
       "      <td>{'$oid': '5ab8d2b83efc2c03c520d159'}</td>\n",
       "      <td>https://www.nasdaq.com/article/3-strong-buy-se...</td>\n",
       "      <td>3 Strong Buy Semiconductor Stocks to Consider Now</td>\n",
       "      <td>{'$date': '2018-03-12T16:12:00Z'}</td>\n",
       "      <td>By Ryan McQueeney, Zacks.com</td>\n",
       "      <td>...</td>\n",
       "      <td>97.239998</td>\n",
       "      <td>93.970001</td>\n",
       "      <td>94.410004</td>\n",
       "      <td>91.155731</td>\n",
       "      <td>35387800</td>\n",
       "      <td>0</td>\n",
       "      <td>0.489353</td>\n",
       "      <td>0.146362</td>\n",
       "      <td>Semiconductor stocks battered recent market se...</td>\n",
       "      <td>semiconductor stock batter recent market sell-...</td>\n",
       "    </tr>\n",
       "    <tr>\n",
       "      <th>3</th>\n",
       "      <td>8</td>\n",
       "      <td>2018-03-13</td>\n",
       "      <td>07:05:00</td>\n",
       "      <td>8</td>\n",
       "      <td>1472</td>\n",
       "      <td>{'$oid': '5ab8d0693efc2c03c520cc37'}</td>\n",
       "      <td>https://www.nasdaq.com/article/slack-needs-to-...</td>\n",
       "      <td>Slack Needs to Worry About Microsoft Teams</td>\n",
       "      <td>{'$date': '2018-03-13T07:05:00Z'}</td>\n",
       "      <td>By Timothy Green, Motley Fool</td>\n",
       "      <td>...</td>\n",
       "      <td>97.239998</td>\n",
       "      <td>93.970001</td>\n",
       "      <td>94.410004</td>\n",
       "      <td>91.155731</td>\n",
       "      <td>35387800</td>\n",
       "      <td>0</td>\n",
       "      <td>0.508590</td>\n",
       "      <td>0.175829</td>\n",
       "      <td>Slack, software company focused workplace mess...</td>\n",
       "      <td>slack, softwar compani focus workplac messagin...</td>\n",
       "    </tr>\n",
       "    <tr>\n",
       "      <th>4</th>\n",
       "      <td>6</td>\n",
       "      <td>2018-03-15</td>\n",
       "      <td>16:44:00</td>\n",
       "      <td>6</td>\n",
       "      <td>1313</td>\n",
       "      <td>{'$oid': '5ab8decb3efc2c03c520ec83'}</td>\n",
       "      <td>https://www.nasdaq.com/article/3-large-cap-etf...</td>\n",
       "      <td>3 Large-Cap ETFs With Solid Inflows in March</td>\n",
       "      <td>{'$date': '2018-03-14T16:44:00Z'}</td>\n",
       "      <td>By Zacks Equity Research, Zacks.com</td>\n",
       "      <td>...</td>\n",
       "      <td>94.580002</td>\n",
       "      <td>92.830002</td>\n",
       "      <td>94.180000</td>\n",
       "      <td>90.933655</td>\n",
       "      <td>27611000</td>\n",
       "      <td>1</td>\n",
       "      <td>0.532905</td>\n",
       "      <td>0.115972</td>\n",
       "      <td>Wall Street recovering lately fears aggressive...</td>\n",
       "      <td>wall street recov late fear aggress rate hike ...</td>\n",
       "    </tr>\n",
       "  </tbody>\n",
       "</table>\n",
       "<p>5 rows × 27 columns</p>\n",
       "</div>"
      ],
      "text/plain": [
       "   Unnamed: 0        Date      Time  X.1     X  \\\n",
       "0           2  2018-03-13  18:42:00    2   473   \n",
       "1           4  2018-03-13  22:09:00    4   849   \n",
       "2          10  2018-03-13  16:12:00   10  1660   \n",
       "3           8  2018-03-13  07:05:00    8  1472   \n",
       "4           6  2018-03-15  16:44:00    6  1313   \n",
       "\n",
       "                                   X_id  \\\n",
       "0  {'$oid': '5ab8d21e3efc2c03c520d00f'}   \n",
       "1  {'$oid': '5ab8d1dc3efc2c03c520cf8b'}   \n",
       "2  {'$oid': '5ab8d2b83efc2c03c520d159'}   \n",
       "3  {'$oid': '5ab8d0693efc2c03c520cc37'}   \n",
       "4  {'$oid': '5ab8decb3efc2c03c520ec83'}   \n",
       "\n",
       "                                        article_link  \\\n",
       "0  https://www.nasdaq.com/article/is-oracle-orcl-...   \n",
       "1  https://www.nasdaq.com/article/1-smart-artific...   \n",
       "2  https://www.nasdaq.com/article/3-strong-buy-se...   \n",
       "3  https://www.nasdaq.com/article/slack-needs-to-...   \n",
       "4  https://www.nasdaq.com/article/3-large-cap-etf...   \n",
       "\n",
       "                                       article_title  \\\n",
       "0  Is Oracle (ORCL) Set to Beat Earnings Estimate...   \n",
       "1  1 Smart Artificial Intelligence Bet You Can Ma...   \n",
       "2  3 Strong Buy Semiconductor Stocks to Consider Now   \n",
       "3         Slack Needs to Worry About Microsoft Teams   \n",
       "4       3 Large-Cap ETFs With Solid Inflows in March   \n",
       "\n",
       "                        article_time                          author_name  \\\n",
       "0  {'$date': '2018-03-12T18:42:00Z'}         By Benjamin Rains, Zacks.com   \n",
       "1  {'$date': '2018-03-12T22:09:00Z'}        By Harsh Chauhan, Motley Fool   \n",
       "2  {'$date': '2018-03-12T16:12:00Z'}         By Ryan McQueeney, Zacks.com   \n",
       "3  {'$date': '2018-03-13T07:05:00Z'}        By Timothy Green, Motley Fool   \n",
       "4  {'$date': '2018-03-14T16:44:00Z'}  By Zacks Equity Research, Zacks.com   \n",
       "\n",
       "   ...       High        Low      Close  Adj Close    Volume Label  \\\n",
       "0  ...  97.239998  93.970001  94.410004  91.155731  35387800     0   \n",
       "1  ...  97.239998  93.970001  94.410004  91.155731  35387800     0   \n",
       "2  ...  97.239998  93.970001  94.410004  91.155731  35387800     0   \n",
       "3  ...  97.239998  93.970001  94.410004  91.155731  35387800     0   \n",
       "4  ...  94.580002  92.830002  94.180000  90.933655  27611000     1   \n",
       "\n",
       "   Subjectivity  Polarity                  article_content_without_stopwords  \\\n",
       "0      0.475277  0.108063  Cloud computing one well-known drivers growth ...   \n",
       "1      0.440061  0.169724  A report IDC, follows tech industry, estimates...   \n",
       "2      0.489353  0.146362  Semiconductor stocks battered recent market se...   \n",
       "3      0.508590  0.175829  Slack, software company focused workplace mess...   \n",
       "4      0.532905  0.115972  Wall Street recovering lately fears aggressive...   \n",
       "\n",
       "                                       EtterStemming  \n",
       "0  cloud comput one well-known driver growth tech...  \n",
       "1  a report idc, follow tech industry, estim worl...  \n",
       "2  semiconductor stock batter recent market sell-...  \n",
       "3  slack, softwar compani focus workplac messagin...  \n",
       "4  wall street recov late fear aggress rate hike ...  \n",
       "\n",
       "[5 rows x 27 columns]"
      ]
     },
     "execution_count": 20,
     "metadata": {},
     "output_type": "execute_result"
    }
   ],
   "source": [
    "def stem_words(article_content_without_stopwords):\n",
    "    return \" \".join([port.stem(word) for word in article_content_without_stopwords.split()])\n",
    "\n",
    "merge[\"EtterStemming\"] = merge[\"article_content_without_stopwords\"].apply(lambda article_content_without_stopwords: stem_words(article_content_without_stopwords))\n",
    "merge.head()"
   ]
  },
  {
   "cell_type": "code",
   "execution_count": 21,
   "id": "d40f1e40",
   "metadata": {},
   "outputs": [],
   "source": [
    "#Create a function to get the sentiment scores\n",
    "def getSIA(EtterStemming):\n",
    "    sia = SentimentIntensityAnalyzer()\n",
    "    sentiment = sia.polarity_scores(EtterStemming)\n",
    "    return sentiment"
   ]
  },
  {
   "cell_type": "code",
   "execution_count": 23,
   "id": "8a5479a9",
   "metadata": {},
   "outputs": [
    {
     "name": "stderr",
     "output_type": "stream",
     "text": [
      "[nltk_data] Downloading package vader_lexicon to\n",
      "[nltk_data]     /Users/joakimlarsen/nltk_data...\n"
     ]
    },
    {
     "data": {
      "text/plain": [
       "True"
      ]
     },
     "execution_count": 23,
     "metadata": {},
     "output_type": "execute_result"
    }
   ],
   "source": [
    "nltk.download(\"vader_lexicon\")"
   ]
  },
  {
   "cell_type": "code",
   "execution_count": 24,
   "id": "9c134376",
   "metadata": {},
   "outputs": [],
   "source": [
    "#Get the sentiment scores for each day\n",
    "compound = []\n",
    "neg = []\n",
    "pos = []\n",
    "neu = []\n",
    "SIA = 0\n",
    "\n",
    "for i in range(0, len(merge[\"EtterStemming\"])):\n",
    "    SIA = getSIA(merge[\"EtterStemming\"][i])\n",
    "    compound.append(SIA[\"compound\"])\n",
    "    neg.append(SIA[\"neg\"])\n",
    "    neu.append(SIA[\"neu\"])\n",
    "    pos.append(SIA[\"pos\"])"
   ]
  },
  {
   "cell_type": "code",
   "execution_count": 25,
   "id": "f53f077b",
   "metadata": {},
   "outputs": [],
   "source": [
    "#Store the sentiment scores in the merge data set:\n",
    "merge[\"Compound\"] = compound\n",
    "merge[\"Negative\"] = neg\n",
    "merge[\"Neutral\"] = neu\n",
    "merge[\"Positive\"] = pos"
   ]
  },
  {
   "cell_type": "code",
   "execution_count": 26,
   "id": "24403a4e",
   "metadata": {},
   "outputs": [
    {
     "data": {
      "text/html": [
       "<div>\n",
       "<style scoped>\n",
       "    .dataframe tbody tr th:only-of-type {\n",
       "        vertical-align: middle;\n",
       "    }\n",
       "\n",
       "    .dataframe tbody tr th {\n",
       "        vertical-align: top;\n",
       "    }\n",
       "\n",
       "    .dataframe thead th {\n",
       "        text-align: right;\n",
       "    }\n",
       "</style>\n",
       "<table border=\"1\" class=\"dataframe\">\n",
       "  <thead>\n",
       "    <tr style=\"text-align: right;\">\n",
       "      <th></th>\n",
       "      <th>Unnamed: 0</th>\n",
       "      <th>Date</th>\n",
       "      <th>Time</th>\n",
       "      <th>X.1</th>\n",
       "      <th>X</th>\n",
       "      <th>X_id</th>\n",
       "      <th>article_link</th>\n",
       "      <th>article_title</th>\n",
       "      <th>article_time</th>\n",
       "      <th>author_name</th>\n",
       "      <th>...</th>\n",
       "      <th>Volume</th>\n",
       "      <th>Label</th>\n",
       "      <th>Subjectivity</th>\n",
       "      <th>Polarity</th>\n",
       "      <th>article_content_without_stopwords</th>\n",
       "      <th>EtterStemming</th>\n",
       "      <th>Compound</th>\n",
       "      <th>Negative</th>\n",
       "      <th>Neutral</th>\n",
       "      <th>Positive</th>\n",
       "    </tr>\n",
       "  </thead>\n",
       "  <tbody>\n",
       "    <tr>\n",
       "      <th>0</th>\n",
       "      <td>2</td>\n",
       "      <td>2018-03-13</td>\n",
       "      <td>18:42:00</td>\n",
       "      <td>2</td>\n",
       "      <td>473</td>\n",
       "      <td>{'$oid': '5ab8d21e3efc2c03c520d00f'}</td>\n",
       "      <td>https://www.nasdaq.com/article/is-oracle-orcl-...</td>\n",
       "      <td>Is Oracle (ORCL) Set to Beat Earnings Estimate...</td>\n",
       "      <td>{'$date': '2018-03-12T18:42:00Z'}</td>\n",
       "      <td>By Benjamin Rains, Zacks.com</td>\n",
       "      <td>...</td>\n",
       "      <td>35387800</td>\n",
       "      <td>0</td>\n",
       "      <td>0.475277</td>\n",
       "      <td>0.108063</td>\n",
       "      <td>Cloud computing one well-known drivers growth ...</td>\n",
       "      <td>cloud comput one well-known driver growth tech...</td>\n",
       "      <td>0.9633</td>\n",
       "      <td>0.000</td>\n",
       "      <td>0.901</td>\n",
       "      <td>0.099</td>\n",
       "    </tr>\n",
       "    <tr>\n",
       "      <th>1</th>\n",
       "      <td>4</td>\n",
       "      <td>2018-03-13</td>\n",
       "      <td>22:09:00</td>\n",
       "      <td>4</td>\n",
       "      <td>849</td>\n",
       "      <td>{'$oid': '5ab8d1dc3efc2c03c520cf8b'}</td>\n",
       "      <td>https://www.nasdaq.com/article/1-smart-artific...</td>\n",
       "      <td>1 Smart Artificial Intelligence Bet You Can Ma...</td>\n",
       "      <td>{'$date': '2018-03-12T22:09:00Z'}</td>\n",
       "      <td>By Harsh Chauhan, Motley Fool</td>\n",
       "      <td>...</td>\n",
       "      <td>35387800</td>\n",
       "      <td>0</td>\n",
       "      <td>0.440061</td>\n",
       "      <td>0.169724</td>\n",
       "      <td>A report IDC, follows tech industry, estimates...</td>\n",
       "      <td>a report idc, follow tech industry, estim worl...</td>\n",
       "      <td>0.9892</td>\n",
       "      <td>0.048</td>\n",
       "      <td>0.823</td>\n",
       "      <td>0.130</td>\n",
       "    </tr>\n",
       "    <tr>\n",
       "      <th>2</th>\n",
       "      <td>10</td>\n",
       "      <td>2018-03-13</td>\n",
       "      <td>16:12:00</td>\n",
       "      <td>10</td>\n",
       "      <td>1660</td>\n",
       "      <td>{'$oid': '5ab8d2b83efc2c03c520d159'}</td>\n",
       "      <td>https://www.nasdaq.com/article/3-strong-buy-se...</td>\n",
       "      <td>3 Strong Buy Semiconductor Stocks to Consider Now</td>\n",
       "      <td>{'$date': '2018-03-12T16:12:00Z'}</td>\n",
       "      <td>By Ryan McQueeney, Zacks.com</td>\n",
       "      <td>...</td>\n",
       "      <td>35387800</td>\n",
       "      <td>0</td>\n",
       "      <td>0.489353</td>\n",
       "      <td>0.146362</td>\n",
       "      <td>Semiconductor stocks battered recent market se...</td>\n",
       "      <td>semiconductor stock batter recent market sell-...</td>\n",
       "      <td>0.9948</td>\n",
       "      <td>0.016</td>\n",
       "      <td>0.844</td>\n",
       "      <td>0.140</td>\n",
       "    </tr>\n",
       "  </tbody>\n",
       "</table>\n",
       "<p>3 rows × 31 columns</p>\n",
       "</div>"
      ],
      "text/plain": [
       "   Unnamed: 0        Date      Time  X.1     X  \\\n",
       "0           2  2018-03-13  18:42:00    2   473   \n",
       "1           4  2018-03-13  22:09:00    4   849   \n",
       "2          10  2018-03-13  16:12:00   10  1660   \n",
       "\n",
       "                                   X_id  \\\n",
       "0  {'$oid': '5ab8d21e3efc2c03c520d00f'}   \n",
       "1  {'$oid': '5ab8d1dc3efc2c03c520cf8b'}   \n",
       "2  {'$oid': '5ab8d2b83efc2c03c520d159'}   \n",
       "\n",
       "                                        article_link  \\\n",
       "0  https://www.nasdaq.com/article/is-oracle-orcl-...   \n",
       "1  https://www.nasdaq.com/article/1-smart-artific...   \n",
       "2  https://www.nasdaq.com/article/3-strong-buy-se...   \n",
       "\n",
       "                                       article_title  \\\n",
       "0  Is Oracle (ORCL) Set to Beat Earnings Estimate...   \n",
       "1  1 Smart Artificial Intelligence Bet You Can Ma...   \n",
       "2  3 Strong Buy Semiconductor Stocks to Consider Now   \n",
       "\n",
       "                        article_time                    author_name  ...  \\\n",
       "0  {'$date': '2018-03-12T18:42:00Z'}   By Benjamin Rains, Zacks.com  ...   \n",
       "1  {'$date': '2018-03-12T22:09:00Z'}  By Harsh Chauhan, Motley Fool  ...   \n",
       "2  {'$date': '2018-03-12T16:12:00Z'}   By Ryan McQueeney, Zacks.com  ...   \n",
       "\n",
       "     Volume Label Subjectivity  Polarity  \\\n",
       "0  35387800     0     0.475277  0.108063   \n",
       "1  35387800     0     0.440061  0.169724   \n",
       "2  35387800     0     0.489353  0.146362   \n",
       "\n",
       "                   article_content_without_stopwords  \\\n",
       "0  Cloud computing one well-known drivers growth ...   \n",
       "1  A report IDC, follows tech industry, estimates...   \n",
       "2  Semiconductor stocks battered recent market se...   \n",
       "\n",
       "                                       EtterStemming  Compound  Negative  \\\n",
       "0  cloud comput one well-known driver growth tech...    0.9633     0.000   \n",
       "1  a report idc, follow tech industry, estim worl...    0.9892     0.048   \n",
       "2  semiconductor stock batter recent market sell-...    0.9948     0.016   \n",
       "\n",
       "   Neutral  Positive  \n",
       "0    0.901     0.099  \n",
       "1    0.823     0.130  \n",
       "2    0.844     0.140  \n",
       "\n",
       "[3 rows x 31 columns]"
      ]
     },
     "execution_count": 26,
     "metadata": {},
     "output_type": "execute_result"
    }
   ],
   "source": [
    "#Show the merge data\n",
    "merge.head(3)"
   ]
  },
  {
   "cell_type": "code",
   "execution_count": 27,
   "id": "f5ac1639",
   "metadata": {},
   "outputs": [
    {
     "data": {
      "text/html": [
       "<div>\n",
       "<style scoped>\n",
       "    .dataframe tbody tr th:only-of-type {\n",
       "        vertical-align: middle;\n",
       "    }\n",
       "\n",
       "    .dataframe tbody tr th {\n",
       "        vertical-align: top;\n",
       "    }\n",
       "\n",
       "    .dataframe thead th {\n",
       "        text-align: right;\n",
       "    }\n",
       "</style>\n",
       "<table border=\"1\" class=\"dataframe\">\n",
       "  <thead>\n",
       "    <tr style=\"text-align: right;\">\n",
       "      <th></th>\n",
       "      <th>Open</th>\n",
       "      <th>Low</th>\n",
       "      <th>High</th>\n",
       "      <th>Volume</th>\n",
       "      <th>Subjectivity</th>\n",
       "      <th>Polarity</th>\n",
       "      <th>Compound</th>\n",
       "      <th>Negative</th>\n",
       "      <th>Neutral</th>\n",
       "      <th>Positive</th>\n",
       "      <th>Label</th>\n",
       "    </tr>\n",
       "  </thead>\n",
       "  <tbody>\n",
       "    <tr>\n",
       "      <th>0</th>\n",
       "      <td>97.000000</td>\n",
       "      <td>93.970001</td>\n",
       "      <td>97.239998</td>\n",
       "      <td>35387800</td>\n",
       "      <td>0.475277</td>\n",
       "      <td>0.108063</td>\n",
       "      <td>0.9633</td>\n",
       "      <td>0.000</td>\n",
       "      <td>0.901</td>\n",
       "      <td>0.099</td>\n",
       "      <td>0</td>\n",
       "    </tr>\n",
       "    <tr>\n",
       "      <th>1</th>\n",
       "      <td>97.000000</td>\n",
       "      <td>93.970001</td>\n",
       "      <td>97.239998</td>\n",
       "      <td>35387800</td>\n",
       "      <td>0.440061</td>\n",
       "      <td>0.169724</td>\n",
       "      <td>0.9892</td>\n",
       "      <td>0.048</td>\n",
       "      <td>0.823</td>\n",
       "      <td>0.130</td>\n",
       "      <td>0</td>\n",
       "    </tr>\n",
       "    <tr>\n",
       "      <th>2</th>\n",
       "      <td>97.000000</td>\n",
       "      <td>93.970001</td>\n",
       "      <td>97.239998</td>\n",
       "      <td>35387800</td>\n",
       "      <td>0.489353</td>\n",
       "      <td>0.146362</td>\n",
       "      <td>0.9948</td>\n",
       "      <td>0.016</td>\n",
       "      <td>0.844</td>\n",
       "      <td>0.140</td>\n",
       "      <td>0</td>\n",
       "    </tr>\n",
       "    <tr>\n",
       "      <th>3</th>\n",
       "      <td>97.000000</td>\n",
       "      <td>93.970001</td>\n",
       "      <td>97.239998</td>\n",
       "      <td>35387800</td>\n",
       "      <td>0.508590</td>\n",
       "      <td>0.175829</td>\n",
       "      <td>0.9906</td>\n",
       "      <td>0.062</td>\n",
       "      <td>0.803</td>\n",
       "      <td>0.135</td>\n",
       "      <td>0</td>\n",
       "    </tr>\n",
       "    <tr>\n",
       "      <th>4</th>\n",
       "      <td>93.529999</td>\n",
       "      <td>92.830002</td>\n",
       "      <td>94.580002</td>\n",
       "      <td>27611000</td>\n",
       "      <td>0.532905</td>\n",
       "      <td>0.115972</td>\n",
       "      <td>0.9877</td>\n",
       "      <td>0.074</td>\n",
       "      <td>0.781</td>\n",
       "      <td>0.145</td>\n",
       "      <td>1</td>\n",
       "    </tr>\n",
       "    <tr>\n",
       "      <th>...</th>\n",
       "      <td>...</td>\n",
       "      <td>...</td>\n",
       "      <td>...</td>\n",
       "      <td>...</td>\n",
       "      <td>...</td>\n",
       "      <td>...</td>\n",
       "      <td>...</td>\n",
       "      <td>...</td>\n",
       "      <td>...</td>\n",
       "      <td>...</td>\n",
       "      <td>...</td>\n",
       "    </tr>\n",
       "    <tr>\n",
       "      <th>1423</th>\n",
       "      <td>31.620001</td>\n",
       "      <td>31.250000</td>\n",
       "      <td>31.650000</td>\n",
       "      <td>63213000</td>\n",
       "      <td>0.461096</td>\n",
       "      <td>0.078854</td>\n",
       "      <td>0.9698</td>\n",
       "      <td>0.041</td>\n",
       "      <td>0.830</td>\n",
       "      <td>0.129</td>\n",
       "      <td>0</td>\n",
       "    </tr>\n",
       "    <tr>\n",
       "      <th>1424</th>\n",
       "      <td>32.869999</td>\n",
       "      <td>32.150002</td>\n",
       "      <td>32.869999</td>\n",
       "      <td>40685000</td>\n",
       "      <td>0.373844</td>\n",
       "      <td>-0.029014</td>\n",
       "      <td>0.7269</td>\n",
       "      <td>0.029</td>\n",
       "      <td>0.924</td>\n",
       "      <td>0.047</td>\n",
       "      <td>0</td>\n",
       "    </tr>\n",
       "    <tr>\n",
       "      <th>1425</th>\n",
       "      <td>37.240002</td>\n",
       "      <td>37.060001</td>\n",
       "      <td>38.220001</td>\n",
       "      <td>88948800</td>\n",
       "      <td>0.343695</td>\n",
       "      <td>0.045125</td>\n",
       "      <td>0.9300</td>\n",
       "      <td>0.040</td>\n",
       "      <td>0.867</td>\n",
       "      <td>0.094</td>\n",
       "      <td>1</td>\n",
       "    </tr>\n",
       "    <tr>\n",
       "      <th>1426</th>\n",
       "      <td>62.500000</td>\n",
       "      <td>62.240002</td>\n",
       "      <td>63.419998</td>\n",
       "      <td>35718900</td>\n",
       "      <td>0.400040</td>\n",
       "      <td>0.049240</td>\n",
       "      <td>0.7184</td>\n",
       "      <td>0.061</td>\n",
       "      <td>0.840</td>\n",
       "      <td>0.099</td>\n",
       "      <td>1</td>\n",
       "    </tr>\n",
       "    <tr>\n",
       "      <th>1427</th>\n",
       "      <td>60.860001</td>\n",
       "      <td>60.220001</td>\n",
       "      <td>61.180000</td>\n",
       "      <td>34655400</td>\n",
       "      <td>0.368776</td>\n",
       "      <td>0.102284</td>\n",
       "      <td>0.9949</td>\n",
       "      <td>0.017</td>\n",
       "      <td>0.814</td>\n",
       "      <td>0.169</td>\n",
       "      <td>0</td>\n",
       "    </tr>\n",
       "  </tbody>\n",
       "</table>\n",
       "<p>1428 rows × 11 columns</p>\n",
       "</div>"
      ],
      "text/plain": [
       "           Open        Low       High    Volume  Subjectivity  Polarity  \\\n",
       "0     97.000000  93.970001  97.239998  35387800      0.475277  0.108063   \n",
       "1     97.000000  93.970001  97.239998  35387800      0.440061  0.169724   \n",
       "2     97.000000  93.970001  97.239998  35387800      0.489353  0.146362   \n",
       "3     97.000000  93.970001  97.239998  35387800      0.508590  0.175829   \n",
       "4     93.529999  92.830002  94.580002  27611000      0.532905  0.115972   \n",
       "...         ...        ...        ...       ...           ...       ...   \n",
       "1423  31.620001  31.250000  31.650000  63213000      0.461096  0.078854   \n",
       "1424  32.869999  32.150002  32.869999  40685000      0.373844 -0.029014   \n",
       "1425  37.240002  37.060001  38.220001  88948800      0.343695  0.045125   \n",
       "1426  62.500000  62.240002  63.419998  35718900      0.400040  0.049240   \n",
       "1427  60.860001  60.220001  61.180000  34655400      0.368776  0.102284   \n",
       "\n",
       "      Compound  Negative  Neutral  Positive  Label  \n",
       "0       0.9633     0.000    0.901     0.099      0  \n",
       "1       0.9892     0.048    0.823     0.130      0  \n",
       "2       0.9948     0.016    0.844     0.140      0  \n",
       "3       0.9906     0.062    0.803     0.135      0  \n",
       "4       0.9877     0.074    0.781     0.145      1  \n",
       "...        ...       ...      ...       ...    ...  \n",
       "1423    0.9698     0.041    0.830     0.129      0  \n",
       "1424    0.7269     0.029    0.924     0.047      0  \n",
       "1425    0.9300     0.040    0.867     0.094      1  \n",
       "1426    0.7184     0.061    0.840     0.099      1  \n",
       "1427    0.9949     0.017    0.814     0.169      0  \n",
       "\n",
       "[1428 rows x 11 columns]"
      ]
     },
     "execution_count": 27,
     "metadata": {},
     "output_type": "execute_result"
    }
   ],
   "source": [
    "#Create a list of column to keep\n",
    "keep_columns = [\"Open\", \"Low\", \"High\", \"Volume\", \"Subjectivity\", \"Polarity\", \"Compound\", \"Negative\", \"Neutral\", \"Positive\", \"Label\"]\n",
    "df = merge[keep_columns]\n",
    "df"
   ]
  },
  {
   "cell_type": "code",
   "execution_count": 28,
   "id": "75203af9",
   "metadata": {},
   "outputs": [
    {
     "name": "stderr",
     "output_type": "stream",
     "text": [
      "/var/folders/m7/01kjn8yx6d3_tjkcr1dkd9g80000gn/T/ipykernel_31133/988765945.py:3: FutureWarning: In a future version of pandas all arguments of DataFrame.drop except for the argument 'labels' will be keyword-only\n",
      "  X = np.array(X.drop([\"Label\"], 1))\n"
     ]
    }
   ],
   "source": [
    "#Create the feature data set\n",
    "X = df\n",
    "X = np.array(X.drop([\"Label\"], 1))\n",
    "\n",
    "#Create the target data set\n",
    "y = np.array(df[\"Label\"])"
   ]
  },
  {
   "cell_type": "code",
   "execution_count": 45,
   "id": "3afc0f43",
   "metadata": {},
   "outputs": [],
   "source": [
    "#Split the data into 80% trainig and 20% testing data set\n",
    "x_train, x_test, y_train, y_test = train_test_split(X, y, test_size = 0.2, random_state = 0)"
   ]
  },
  {
   "cell_type": "code",
   "execution_count": 39,
   "id": "d34b63d8",
   "metadata": {},
   "outputs": [
    {
     "data": {
      "text/plain": [
       "286"
      ]
     },
     "execution_count": 39,
     "metadata": {},
     "output_type": "execute_result"
    }
   ],
   "source": [
    "len(x_test)"
   ]
  },
  {
   "cell_type": "code",
   "execution_count": 40,
   "id": "87f4c978",
   "metadata": {},
   "outputs": [
    {
     "data": {
      "text/plain": [
       "1142"
      ]
     },
     "execution_count": 40,
     "metadata": {},
     "output_type": "execute_result"
    }
   ],
   "source": [
    "len(x_train)"
   ]
  },
  {
   "cell_type": "code",
   "execution_count": 30,
   "id": "ac1bcae7",
   "metadata": {},
   "outputs": [],
   "source": [
    "#Create and train the model\n",
    "model = LinearDiscriminantAnalysis().fit(x_train, y_train)"
   ]
  },
  {
   "cell_type": "code",
   "execution_count": 31,
   "id": "a97a4ccb",
   "metadata": {},
   "outputs": [
    {
     "data": {
      "text/plain": [
       "array([0, 1, 0, 0, 1, 0, 0, 1, 0, 1, 1, 1, 0, 1, 0, 0, 1, 0, 0, 1, 0, 1,\n",
       "       1, 0, 0, 1, 1, 1, 1, 0, 1, 1, 1, 0, 0, 1, 1, 1, 0, 1, 0, 1, 0, 0,\n",
       "       0, 1, 1, 1, 1, 0, 0, 1, 0, 0, 0, 0, 0, 1, 1, 1, 1, 1, 0, 0, 1, 0,\n",
       "       0, 0, 1, 1, 1, 1, 1, 1, 1, 1, 0, 0, 1, 1, 0, 0, 0, 0, 0, 0, 0, 1,\n",
       "       1, 0, 0, 1, 0, 1, 0, 0, 1, 1, 1, 1, 0, 1, 0, 0, 0, 0, 0, 0, 1, 1,\n",
       "       1, 1, 0, 0, 0, 0, 1, 0, 0, 1, 0, 0, 1, 1, 0, 0, 1, 0, 0, 1, 0, 0,\n",
       "       0, 1, 0, 0, 0, 0, 1, 0, 1, 1, 0, 0, 0, 0, 1, 0, 1, 1, 1, 0, 1, 0,\n",
       "       1, 1, 1, 0, 0, 0, 0, 0, 1, 0, 1, 1, 1, 1, 0, 1, 1, 1, 0, 1, 1, 0,\n",
       "       1, 1, 0, 0, 1, 0, 0, 0, 0, 0, 0, 0, 1, 0, 1, 1, 1, 1, 1, 0, 0, 1,\n",
       "       1, 0, 1, 1, 1, 1, 1, 1, 0, 1, 0, 1, 0, 1, 0, 1, 0, 1, 0, 0, 1, 0,\n",
       "       1, 1, 0, 1, 0, 0, 0, 0, 0, 0, 0, 0, 1, 0, 0, 0, 1, 1, 1, 0, 1, 0,\n",
       "       0, 0, 0, 1, 0, 0, 1, 0, 0, 1, 0, 0, 0, 0, 0, 0, 1, 0, 0, 1, 0, 1,\n",
       "       0, 1, 0, 1, 0, 1, 1, 0, 1, 1, 1, 0, 0, 1, 0, 0, 1, 1, 0, 0, 1, 0])"
      ]
     },
     "execution_count": 31,
     "metadata": {},
     "output_type": "execute_result"
    }
   ],
   "source": [
    "#Show the models predictions\n",
    "predictions = model.predict(x_test)\n",
    "predictions"
   ]
  },
  {
   "cell_type": "code",
   "execution_count": 32,
   "id": "884e8691",
   "metadata": {},
   "outputs": [
    {
     "data": {
      "text/plain": [
       "array([0, 1, 0, 0, 1, 0, 0, 1, 0, 1, 1, 1, 0, 1, 0, 0, 1, 0, 0, 1, 1, 1,\n",
       "       1, 0, 1, 1, 1, 1, 1, 0, 1, 1, 1, 0, 1, 1, 1, 1, 0, 1, 0, 1, 1, 1,\n",
       "       0, 1, 0, 1, 0, 0, 1, 1, 0, 1, 0, 0, 0, 1, 0, 1, 1, 1, 0, 0, 1, 1,\n",
       "       1, 0, 0, 1, 1, 1, 1, 1, 1, 1, 0, 0, 1, 0, 1, 1, 0, 0, 0, 0, 0, 1,\n",
       "       1, 0, 0, 1, 0, 1, 0, 1, 0, 1, 1, 1, 0, 1, 1, 0, 1, 0, 0, 0, 1, 1,\n",
       "       1, 1, 0, 0, 0, 0, 1, 0, 0, 1, 0, 1, 1, 1, 0, 0, 0, 0, 0, 1, 0, 1,\n",
       "       0, 1, 0, 0, 0, 0, 1, 0, 1, 1, 0, 1, 0, 0, 1, 0, 1, 1, 1, 0, 0, 0,\n",
       "       1, 1, 1, 0, 0, 0, 0, 0, 1, 0, 1, 1, 1, 1, 0, 1, 1, 1, 0, 1, 1, 0,\n",
       "       1, 1, 0, 0, 1, 1, 0, 0, 0, 0, 0, 0, 1, 0, 1, 1, 1, 1, 1, 0, 0, 1,\n",
       "       1, 0, 1, 1, 1, 1, 1, 1, 0, 1, 0, 1, 1, 0, 1, 0, 1, 1, 1, 0, 1, 0,\n",
       "       1, 1, 0, 1, 1, 1, 0, 0, 1, 0, 0, 1, 0, 0, 1, 0, 1, 1, 0, 0, 1, 0,\n",
       "       0, 0, 0, 1, 0, 1, 0, 0, 1, 1, 0, 0, 0, 0, 0, 0, 0, 0, 0, 1, 0, 1,\n",
       "       1, 1, 0, 1, 0, 1, 1, 1, 1, 0, 0, 0, 0, 0, 0, 0, 0, 1, 0, 0, 1, 0])"
      ]
     },
     "execution_count": 32,
     "metadata": {},
     "output_type": "execute_result"
    }
   ],
   "source": [
    "y_test"
   ]
  },
  {
   "cell_type": "code",
   "execution_count": 33,
   "id": "13099ebd",
   "metadata": {},
   "outputs": [
    {
     "name": "stdout",
     "output_type": "stream",
     "text": [
      "              precision    recall  f1-score   support\n",
      "\n",
      "           0       0.80      0.87      0.83       140\n",
      "           1       0.86      0.79      0.82       146\n",
      "\n",
      "    accuracy                           0.83       286\n",
      "   macro avg       0.83      0.83      0.83       286\n",
      "weighted avg       0.83      0.83      0.83       286\n",
      "\n"
     ]
    }
   ],
   "source": [
    "#Show the model metrics\n",
    "print( classification_report(y_test, predictions))"
   ]
  },
  {
   "cell_type": "code",
   "execution_count": 46,
   "id": "404b017a",
   "metadata": {},
   "outputs": [],
   "source": [
    "#Create and train the model (Naive Bayes)\n",
    "from sklearn.naive_bayes import GaussianNB\n",
    "modelNB = GaussianNB()"
   ]
  },
  {
   "cell_type": "code",
   "execution_count": 55,
   "id": "d254cc31",
   "metadata": {},
   "outputs": [
    {
     "data": {
      "text/plain": [
       "GaussianNB()"
      ]
     },
     "execution_count": 55,
     "metadata": {},
     "output_type": "execute_result"
    }
   ],
   "source": [
    "#Train the model\n",
    "modelNB.fit(x_train, y_train)"
   ]
  },
  {
   "cell_type": "code",
   "execution_count": 60,
   "id": "38198bc1",
   "metadata": {},
   "outputs": [
    {
     "data": {
      "text/plain": [
       "0.5699300699300699"
      ]
     },
     "execution_count": 60,
     "metadata": {},
     "output_type": "execute_result"
    }
   ],
   "source": [
    "#Accuracy for modellen\n",
    "modelNB.score(x_test, y_test)"
   ]
  },
  {
   "cell_type": "code",
   "execution_count": 49,
   "id": "63d3f179",
   "metadata": {},
   "outputs": [
    {
     "data": {
      "text/plain": [
       "array([[ 5.78899990e+01,  5.68899990e+01,  5.80200000e+01,\n",
       "         2.64974000e+07,  4.79085498e-01,  1.28204033e-01,\n",
       "         9.91900000e-01,  4.70000000e-02,  8.19000000e-01,\n",
       "         1.34000000e-01],\n",
       "       [ 4.90200000e+01,  4.86699980e+01,  5.02400020e+01,\n",
       "         4.67405000e+07,  5.16717931e-01,  1.35121896e-01,\n",
       "         9.83900000e-01,  1.20000000e-02,  7.70000000e-01,\n",
       "         2.18000000e-01],\n",
       "       [ 5.04100000e+01,  4.98200000e+01,  5.04300000e+01,\n",
       "         4.57105000e+07,  4.17602556e-01,  3.55148423e-02,\n",
       "        -5.70700000e-01,  9.70000000e-02,  8.09000000e-01,\n",
       "         9.40000000e-02],\n",
       "       [ 5.49199980e+01,  5.34500010e+01,  5.49700010e+01,\n",
       "         6.76255000e+07,  5.58333333e-01,  6.11111111e-02,\n",
       "         2.96000000e-01,  0.00000000e+00,  9.37000000e-01,\n",
       "         6.20000000e-02],\n",
       "       [ 5.22999990e+01,  5.22500000e+01,  5.40700000e+01,\n",
       "         1.35227100e+08,  5.58333333e-01,  6.11111111e-02,\n",
       "         2.96000000e-01,  0.00000000e+00,  9.37000000e-01,\n",
       "         6.20000000e-02],\n",
       "       [ 4.04800000e+01,  3.95999980e+01,  4.07099990e+01,\n",
       "         4.19775000e+07,  3.74891775e-01,  4.35064935e-02,\n",
       "         2.73200000e-01,  0.00000000e+00,  9.56000000e-01,\n",
       "         4.40000000e-02],\n",
       "       [ 5.41699980e+01,  5.26500020e+01,  5.42599980e+01,\n",
       "         5.63138000e+07,  6.00146199e-01,  8.26754386e-02,\n",
       "         8.67700000e-01,  4.60000000e-02,  8.72000000e-01,\n",
       "         8.20000000e-02],\n",
       "       [ 4.71100010e+01,  4.70499990e+01,  4.79199980e+01,\n",
       "         2.43305000e+07,  4.94515549e-01,  1.69528620e-01,\n",
       "         9.65200000e-01,  3.10000000e-02,  8.90000000e-01,\n",
       "         7.90000000e-02],\n",
       "       [ 6.35700000e+01,  6.32200010e+01,  6.38100010e+01,\n",
       "         1.80964000e+07,  4.88462973e-01,  1.55750898e-01,\n",
       "         9.97500000e-01,  4.40000000e-02,  7.72000000e-01,\n",
       "         1.84000000e-01],\n",
       "       [ 5.07799990e+01,  5.03899990e+01,  5.15400010e+01,\n",
       "         2.81675000e+07,  5.58333333e-01,  6.11111111e-02,\n",
       "         2.96000000e-01,  0.00000000e+00,  9.37000000e-01,\n",
       "         6.20000000e-02]])"
      ]
     },
     "execution_count": 49,
     "metadata": {},
     "output_type": "execute_result"
    }
   ],
   "source": [
    "x_test[:10]"
   ]
  },
  {
   "cell_type": "code",
   "execution_count": 61,
   "id": "1306315a",
   "metadata": {},
   "outputs": [
    {
     "data": {
      "text/plain": [
       "array([0, 1, 0, 0, 1, 0, 0, 1, 0, 1])"
      ]
     },
     "execution_count": 61,
     "metadata": {},
     "output_type": "execute_result"
    }
   ],
   "source": [
    "#Faktisk oppgang eller nedgang\n",
    "y_test[:10]"
   ]
  },
  {
   "cell_type": "code",
   "execution_count": 62,
   "id": "e3ad8b85",
   "metadata": {},
   "outputs": [
    {
     "data": {
      "text/plain": [
       "array([1, 0, 0, 0, 0, 0, 0, 1, 1, 1])"
      ]
     },
     "execution_count": 62,
     "metadata": {},
     "output_type": "execute_result"
    }
   ],
   "source": [
    "#Sjekker om vi modellen predikerer rett\n",
    "modelNB.predict(x_test[:10])"
   ]
  },
  {
   "cell_type": "code",
   "execution_count": 64,
   "id": "45c6c2ea",
   "metadata": {},
   "outputs": [
    {
     "data": {
      "text/plain": [
       "array([[0.48253207, 0.51746793],\n",
       "       [0.51222269, 0.48777731],\n",
       "       [0.51009324, 0.48990676],\n",
       "       [0.56930575, 0.43069425],\n",
       "       [0.85480786, 0.14519214],\n",
       "       [0.50292819, 0.49707181],\n",
       "       [0.53514827, 0.46485173],\n",
       "       [0.48087398, 0.51912602],\n",
       "       [0.4777463 , 0.5222537 ],\n",
       "       [0.48400922, 0.51599078]])"
      ]
     },
     "execution_count": 64,
     "metadata": {},
     "output_type": "execute_result"
    }
   ],
   "source": [
    "#Sjekker sannsynligheten for oppgang og nedgang\n",
    "modelNB.predict_proba(x_test[:10])"
   ]
  }
 ],
 "metadata": {
  "kernelspec": {
   "display_name": "Python 3 (ipykernel)",
   "language": "python",
   "name": "python3"
  },
  "language_info": {
   "codemirror_mode": {
    "name": "ipython",
    "version": 3
   },
   "file_extension": ".py",
   "mimetype": "text/x-python",
   "name": "python",
   "nbconvert_exporter": "python",
   "pygments_lexer": "ipython3",
   "version": "3.9.7"
  }
 },
 "nbformat": 4,
 "nbformat_minor": 5
}
